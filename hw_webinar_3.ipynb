{
 "cells": [
  {
   "cell_type": "code",
   "execution_count": 1,
   "id": "f6bce8f9-bab9-4d25-9624-71399af2761a",
   "metadata": {},
   "outputs": [],
   "source": [
    "import pandas as pd\n",
    "import numpy as np\n",
    "import matplotlib.pyplot as plt\n",
    "%matplotlib inline\n",
    "\n",
    "# Для работы с матрицами\n",
    "from scipy.sparse import csr_matrix\n",
    "\n",
    "# Матричная факторизация\n",
    "from implicit.als import AlternatingLeastSquares\n",
    "from implicit.nearest_neighbours import bm25_weight, tfidf_weight\n",
    "# Функции из 1-ого вебинара\n",
    "# import os, sys\n",
    "\n",
    "# module_path = os.path.abspath(os.path.join(os.pardir))\n",
    "# if module_path not in sys.path:\n",
    "#     sys.path.append(module_path)\n",
    "    \n",
    "# from src.metrics import precision_at_k, recall_at_k"
   ]
  },
  {
   "cell_type": "code",
   "execution_count": 2,
   "id": "d3baea9f",
   "metadata": {},
   "outputs": [],
   "source": [
    "# pip install implicit==0.6.0"
   ]
  },
  {
   "cell_type": "code",
   "execution_count": 3,
   "id": "da70fe06-16ab-4da8-82ec-d29c111bbb56",
   "metadata": {},
   "outputs": [
    {
     "data": {
      "text/html": [
       "<div>\n",
       "<style scoped>\n",
       "    .dataframe tbody tr th:only-of-type {\n",
       "        vertical-align: middle;\n",
       "    }\n",
       "\n",
       "    .dataframe tbody tr th {\n",
       "        vertical-align: top;\n",
       "    }\n",
       "\n",
       "    .dataframe thead th {\n",
       "        text-align: right;\n",
       "    }\n",
       "</style>\n",
       "<table border=\"1\" class=\"dataframe\">\n",
       "  <thead>\n",
       "    <tr style=\"text-align: right;\">\n",
       "      <th></th>\n",
       "      <th>user_id</th>\n",
       "      <th>basket_id</th>\n",
       "      <th>day</th>\n",
       "      <th>item_id</th>\n",
       "      <th>quantity</th>\n",
       "      <th>sales_value</th>\n",
       "      <th>store_id</th>\n",
       "      <th>retail_disc</th>\n",
       "      <th>trans_time</th>\n",
       "      <th>week_no</th>\n",
       "      <th>coupon_disc</th>\n",
       "      <th>coupon_match_disc</th>\n",
       "    </tr>\n",
       "  </thead>\n",
       "  <tbody>\n",
       "    <tr>\n",
       "      <th>0</th>\n",
       "      <td>2375</td>\n",
       "      <td>26984851472</td>\n",
       "      <td>1</td>\n",
       "      <td>1004906</td>\n",
       "      <td>1</td>\n",
       "      <td>1.39</td>\n",
       "      <td>364</td>\n",
       "      <td>-0.6</td>\n",
       "      <td>1631</td>\n",
       "      <td>1</td>\n",
       "      <td>0.0</td>\n",
       "      <td>0.0</td>\n",
       "    </tr>\n",
       "    <tr>\n",
       "      <th>1</th>\n",
       "      <td>2375</td>\n",
       "      <td>26984851472</td>\n",
       "      <td>1</td>\n",
       "      <td>1033142</td>\n",
       "      <td>1</td>\n",
       "      <td>0.82</td>\n",
       "      <td>364</td>\n",
       "      <td>0.0</td>\n",
       "      <td>1631</td>\n",
       "      <td>1</td>\n",
       "      <td>0.0</td>\n",
       "      <td>0.0</td>\n",
       "    </tr>\n",
       "  </tbody>\n",
       "</table>\n",
       "</div>"
      ],
      "text/plain": [
       "   user_id    basket_id  day  item_id  quantity  sales_value  store_id  \\\n",
       "0     2375  26984851472    1  1004906         1         1.39       364   \n",
       "1     2375  26984851472    1  1033142         1         0.82       364   \n",
       "\n",
       "   retail_disc  trans_time  week_no  coupon_disc  coupon_match_disc  \n",
       "0         -0.6        1631        1          0.0                0.0  \n",
       "1          0.0        1631        1          0.0                0.0  "
      ]
     },
     "execution_count": 3,
     "metadata": {},
     "output_type": "execute_result"
    }
   ],
   "source": [
    "data = pd.read_csv('../data/retail_train.csv')\n",
    "data.head(2)"
   ]
  },
  {
   "cell_type": "code",
   "execution_count": 4,
   "id": "c22e92cd-4c99-45c5-88bb-71e923c6dd4d",
   "metadata": {},
   "outputs": [],
   "source": [
    "test_size_weeks = 3\n",
    "\n",
    "data_train = data[data['week_no'] < data['week_no'].max() - test_size_weeks]\n",
    "data_test = data[data['week_no'] >= data['week_no'].max() - test_size_weeks]"
   ]
  },
  {
   "cell_type": "code",
   "execution_count": 5,
   "id": "db1952b2-a9cc-4fcb-9cc8-05cff38176fd",
   "metadata": {},
   "outputs": [
    {
     "data": {
      "text/html": [
       "<div>\n",
       "<style scoped>\n",
       "    .dataframe tbody tr th:only-of-type {\n",
       "        vertical-align: middle;\n",
       "    }\n",
       "\n",
       "    .dataframe tbody tr th {\n",
       "        vertical-align: top;\n",
       "    }\n",
       "\n",
       "    .dataframe thead th {\n",
       "        text-align: right;\n",
       "    }\n",
       "</style>\n",
       "<table border=\"1\" class=\"dataframe\">\n",
       "  <thead>\n",
       "    <tr style=\"text-align: right;\">\n",
       "      <th></th>\n",
       "      <th>user_id</th>\n",
       "      <th>actual</th>\n",
       "    </tr>\n",
       "  </thead>\n",
       "  <tbody>\n",
       "    <tr>\n",
       "      <th>0</th>\n",
       "      <td>1</td>\n",
       "      <td>[821867, 834484, 856942, 865456, 889248, 90795...</td>\n",
       "    </tr>\n",
       "    <tr>\n",
       "      <th>1</th>\n",
       "      <td>3</td>\n",
       "      <td>[835476, 851057, 872021, 878302, 879948, 90963...</td>\n",
       "    </tr>\n",
       "  </tbody>\n",
       "</table>\n",
       "</div>"
      ],
      "text/plain": [
       "   user_id                                             actual\n",
       "0        1  [821867, 834484, 856942, 865456, 889248, 90795...\n",
       "1        3  [835476, 851057, 872021, 878302, 879948, 90963..."
      ]
     },
     "execution_count": 5,
     "metadata": {},
     "output_type": "execute_result"
    }
   ],
   "source": [
    "result = data_test.groupby('user_id')['item_id'].unique().reset_index()\n",
    "result.columns=['user_id', 'actual']\n",
    "result.head(2)"
   ]
  },
  {
   "cell_type": "markdown",
   "id": "6bb5734e-65a0-4d5a-a50b-5543b83a408d",
   "metadata": {},
   "source": [
    "### Задание 1. Подбор оптимальных гиперпараметров для ALS\n",
    "\n",
    "- Попробуйте улучшить базовый вариант ALS, изменяя следующие параметры\n",
    "  - regularization, iterations\n",
    "  - factors\n",
    "  - Вес (TF_IDF, BM25  взвешивание)\n",
    "  \n",
    "- Посчитайте метрики (Precision@5, MAP@5) для разных наборов гиперпараметров и выберете лучший набор"
   ]
  },
  {
   "cell_type": "code",
   "execution_count": 6,
   "id": "56de121c-dc25-465b-bc0c-65cc69570b66",
   "metadata": {},
   "outputs": [],
   "source": [
    "# your code\n",
    "popularity = data_train.groupby('item_id')['quantity'].sum().reset_index()\n",
    "popularity.rename(columns={'quantity': 'n_sold'}, inplace=True)\n",
    "\n",
    "top_5000 = popularity.sort_values('n_sold', ascending=False).head(5000).item_id.tolist()"
   ]
  },
  {
   "cell_type": "code",
   "execution_count": 7,
   "id": "abf89a46-5e35-49a3-8cae-d6cbe65f181c",
   "metadata": {},
   "outputs": [
    {
     "name": "stderr",
     "output_type": "stream",
     "text": [
      "/home/nal/anaconda3/lib/python3.9/site-packages/pandas/core/indexing.py:1817: SettingWithCopyWarning: \n",
      "A value is trying to be set on a copy of a slice from a DataFrame.\n",
      "Try using .loc[row_indexer,col_indexer] = value instead\n",
      "\n",
      "See the caveats in the documentation: https://pandas.pydata.org/pandas-docs/stable/user_guide/indexing.html#returning-a-view-versus-a-copy\n",
      "  self._setitem_single_column(loc, value, pi)\n"
     ]
    },
    {
     "data": {
      "text/html": [
       "<div>\n",
       "<style scoped>\n",
       "    .dataframe tbody tr th:only-of-type {\n",
       "        vertical-align: middle;\n",
       "    }\n",
       "\n",
       "    .dataframe tbody tr th {\n",
       "        vertical-align: top;\n",
       "    }\n",
       "\n",
       "    .dataframe thead th {\n",
       "        text-align: right;\n",
       "    }\n",
       "</style>\n",
       "<table border=\"1\" class=\"dataframe\">\n",
       "  <thead>\n",
       "    <tr style=\"text-align: right;\">\n",
       "      <th>item_id</th>\n",
       "      <th>202291</th>\n",
       "      <th>397896</th>\n",
       "      <th>420647</th>\n",
       "      <th>480014</th>\n",
       "      <th>545926</th>\n",
       "      <th>707683</th>\n",
       "      <th>731106</th>\n",
       "      <th>818980</th>\n",
       "      <th>819063</th>\n",
       "      <th>819227</th>\n",
       "      <th>...</th>\n",
       "      <th>15778533</th>\n",
       "      <th>15831255</th>\n",
       "      <th>15926712</th>\n",
       "      <th>15926775</th>\n",
       "      <th>15926844</th>\n",
       "      <th>15926886</th>\n",
       "      <th>15927403</th>\n",
       "      <th>15927661</th>\n",
       "      <th>15927850</th>\n",
       "      <th>16809471</th>\n",
       "    </tr>\n",
       "    <tr>\n",
       "      <th>user_id</th>\n",
       "      <th></th>\n",
       "      <th></th>\n",
       "      <th></th>\n",
       "      <th></th>\n",
       "      <th></th>\n",
       "      <th></th>\n",
       "      <th></th>\n",
       "      <th></th>\n",
       "      <th></th>\n",
       "      <th></th>\n",
       "      <th></th>\n",
       "      <th></th>\n",
       "      <th></th>\n",
       "      <th></th>\n",
       "      <th></th>\n",
       "      <th></th>\n",
       "      <th></th>\n",
       "      <th></th>\n",
       "      <th></th>\n",
       "      <th></th>\n",
       "      <th></th>\n",
       "    </tr>\n",
       "  </thead>\n",
       "  <tbody>\n",
       "    <tr>\n",
       "      <th>1</th>\n",
       "      <td>0.0</td>\n",
       "      <td>0.0</td>\n",
       "      <td>0.0</td>\n",
       "      <td>0.0</td>\n",
       "      <td>0.0</td>\n",
       "      <td>0.0</td>\n",
       "      <td>0.0</td>\n",
       "      <td>0.0</td>\n",
       "      <td>0.0</td>\n",
       "      <td>0.0</td>\n",
       "      <td>...</td>\n",
       "      <td>0.0</td>\n",
       "      <td>0.0</td>\n",
       "      <td>0.0</td>\n",
       "      <td>0.0</td>\n",
       "      <td>1.0</td>\n",
       "      <td>0.0</td>\n",
       "      <td>0.0</td>\n",
       "      <td>0.0</td>\n",
       "      <td>0.0</td>\n",
       "      <td>0.0</td>\n",
       "    </tr>\n",
       "    <tr>\n",
       "      <th>2</th>\n",
       "      <td>0.0</td>\n",
       "      <td>0.0</td>\n",
       "      <td>0.0</td>\n",
       "      <td>0.0</td>\n",
       "      <td>0.0</td>\n",
       "      <td>0.0</td>\n",
       "      <td>0.0</td>\n",
       "      <td>0.0</td>\n",
       "      <td>0.0</td>\n",
       "      <td>0.0</td>\n",
       "      <td>...</td>\n",
       "      <td>0.0</td>\n",
       "      <td>0.0</td>\n",
       "      <td>0.0</td>\n",
       "      <td>0.0</td>\n",
       "      <td>0.0</td>\n",
       "      <td>0.0</td>\n",
       "      <td>0.0</td>\n",
       "      <td>0.0</td>\n",
       "      <td>0.0</td>\n",
       "      <td>0.0</td>\n",
       "    </tr>\n",
       "    <tr>\n",
       "      <th>3</th>\n",
       "      <td>0.0</td>\n",
       "      <td>0.0</td>\n",
       "      <td>0.0</td>\n",
       "      <td>0.0</td>\n",
       "      <td>0.0</td>\n",
       "      <td>0.0</td>\n",
       "      <td>0.0</td>\n",
       "      <td>0.0</td>\n",
       "      <td>0.0</td>\n",
       "      <td>0.0</td>\n",
       "      <td>...</td>\n",
       "      <td>0.0</td>\n",
       "      <td>0.0</td>\n",
       "      <td>0.0</td>\n",
       "      <td>0.0</td>\n",
       "      <td>0.0</td>\n",
       "      <td>0.0</td>\n",
       "      <td>0.0</td>\n",
       "      <td>0.0</td>\n",
       "      <td>0.0</td>\n",
       "      <td>0.0</td>\n",
       "    </tr>\n",
       "  </tbody>\n",
       "</table>\n",
       "<p>3 rows × 5001 columns</p>\n",
       "</div>"
      ],
      "text/plain": [
       "item_id  202291    397896    420647    480014    545926    707683    731106    \\\n",
       "user_id                                                                         \n",
       "1             0.0       0.0       0.0       0.0       0.0       0.0       0.0   \n",
       "2             0.0       0.0       0.0       0.0       0.0       0.0       0.0   \n",
       "3             0.0       0.0       0.0       0.0       0.0       0.0       0.0   \n",
       "\n",
       "item_id  818980    819063    819227    ...  15778533  15831255  15926712  \\\n",
       "user_id                                ...                                 \n",
       "1             0.0       0.0       0.0  ...       0.0       0.0       0.0   \n",
       "2             0.0       0.0       0.0  ...       0.0       0.0       0.0   \n",
       "3             0.0       0.0       0.0  ...       0.0       0.0       0.0   \n",
       "\n",
       "item_id  15926775  15926844  15926886  15927403  15927661  15927850  16809471  \n",
       "user_id                                                                        \n",
       "1             0.0       1.0       0.0       0.0       0.0       0.0       0.0  \n",
       "2             0.0       0.0       0.0       0.0       0.0       0.0       0.0  \n",
       "3             0.0       0.0       0.0       0.0       0.0       0.0       0.0  \n",
       "\n",
       "[3 rows x 5001 columns]"
      ]
     },
     "execution_count": 7,
     "metadata": {},
     "output_type": "execute_result"
    }
   ],
   "source": [
    "# Заведем фиктивный item_id (если юзер покупал товары из топ-5000, то он \"купил\" такой товар)\n",
    "data_train.loc[~data_train['item_id'].isin(top_5000), 'item_id'] = 999999\n",
    "\n",
    "user_item_matrix = pd.pivot_table(data_train, \n",
    "                                  index='user_id', columns='item_id', \n",
    "                                  values='quantity', # Можно пробоват ьдругие варианты\n",
    "                                  aggfunc='count', \n",
    "                                  fill_value=0\n",
    "                                 )\n",
    "\n",
    "user_item_matrix = user_item_matrix.astype(float) # необходимый тип матрицы для implicit\n",
    "\n",
    "# переведем в формат saprse matrix\n",
    "sparse_user_item = csr_matrix(user_item_matrix).tocsr()\n",
    "\n",
    "user_item_matrix.head(3)"
   ]
  },
  {
   "cell_type": "code",
   "execution_count": 8,
   "id": "e5a18bd8",
   "metadata": {},
   "outputs": [],
   "source": [
    "userids = user_item_matrix.index.values\n",
    "itemids = user_item_matrix.columns.values\n",
    "\n",
    "matrix_userids = np.arange(len(userids))\n",
    "matrix_itemids = np.arange(len(itemids))\n",
    "\n",
    "id_to_itemid = dict(zip(matrix_itemids, itemids))\n",
    "id_to_userid = dict(zip(matrix_userids, userids))\n",
    "\n",
    "itemid_to_id = dict(zip(itemids, matrix_itemids))\n",
    "userid_to_id = dict(zip(userids, matrix_userids))"
   ]
  },
  {
   "cell_type": "code",
   "execution_count": 55,
   "id": "eaa7c170",
   "metadata": {},
   "outputs": [
    {
     "data": {
      "application/vnd.jupyter.widget-view+json": {
       "model_id": "fe1032dfa7ff428e8900ca36e70ed280",
       "version_major": 2,
       "version_minor": 0
      },
      "text/plain": [
       "  0%|          | 0/15 [00:00<?, ?it/s]"
      ]
     },
     "metadata": {},
     "output_type": "display_data"
    },
    {
     "name": "stdout",
     "output_type": "stream",
     "text": [
      "CPU times: user 8.7 s, sys: 55.7 ms, total: 8.75 s\n",
      "Wall time: 2.53 s\n"
     ]
    }
   ],
   "source": [
    "%%time\n",
    "\n",
    "model = AlternatingLeastSquares(factors=100, \n",
    "                                regularization=0.001,\n",
    "                                iterations=15, \n",
    "                                calculate_training_loss=True, \n",
    "                                num_threads=4,random_state=42)\n",
    "\n",
    "model.fit(sparse_user_item,  # На вход item-user matrix\n",
    "          show_progress=True)\n",
    "\n",
    "recs = model.recommend(userid=userid_to_id[2],  # userid - id от 0 до N\n",
    "                        user_items=sparse_user_item,   # на вход user-item matrix\n",
    "                        N=5, # кол-во рекомендаций \n",
    "                        filter_already_liked_items=False, \n",
    "                        filter_items=[itemid_to_id[999999]], \n",
    "                        recalculate_user=False)"
   ]
  },
  {
   "cell_type": "code",
   "execution_count": 56,
   "id": "f3521fab",
   "metadata": {},
   "outputs": [
    {
     "data": {
      "text/plain": [
       "[1106523, 1133018, 5569230, 1082185, 1068719]"
      ]
     },
     "execution_count": 56,
     "metadata": {},
     "output_type": "execute_result"
    }
   ],
   "source": [
    "[id_to_itemid[rec] for rec in recs[0]]"
   ]
  },
  {
   "cell_type": "code",
   "execution_count": 57,
   "id": "aa45b751",
   "metadata": {},
   "outputs": [],
   "source": [
    "def precision_at_k(recommended_list, bought_list, k=5):\n",
    "    \n",
    "    bought_list = np.array(bought_list)\n",
    "    recommended_list = np.array(recommended_list)\n",
    "    \n",
    "    bought_list = bought_list  # Тут нет [:k] !!\n",
    "    recommended_list = recommended_list[:k]\n",
    "    \n",
    "    flags = np.isin(recommended_list, bought_list)\n",
    "    \n",
    "    precision = flags.sum() / len(recommended_list)\n",
    "    \n",
    "    \n",
    "    return precision"
   ]
  },
  {
   "cell_type": "code",
   "execution_count": 58,
   "id": "8b15f3c6",
   "metadata": {},
   "outputs": [],
   "source": [
    "def get_recommendations(user, model, sparse_user_item, N=5):\n",
    "    res = [id_to_itemid[rec] for rec in \n",
    "                    model.recommend(userid=userid_to_id[user], \n",
    "                                    user_items=sparse_user_item[userid_to_id[user]],   # на вход user-item matrix\n",
    "                                    N=N, \n",
    "                                    filter_already_liked_items=False, \n",
    "                                    filter_items=[itemid_to_id[999999]], \n",
    "                                    recalculate_user=True)[0]]\n",
    "    return res"
   ]
  },
  {
   "cell_type": "code",
   "execution_count": 59,
   "id": "28225746",
   "metadata": {},
   "outputs": [
    {
     "name": "stdout",
     "output_type": "stream",
     "text": [
      "CPU times: user 11.5 s, sys: 228 ms, total: 11.7 s\n",
      "Wall time: 3.27 s\n"
     ]
    },
    {
     "data": {
      "text/plain": [
       "0.1802154750244834"
      ]
     },
     "execution_count": 59,
     "metadata": {},
     "output_type": "execute_result"
    }
   ],
   "source": [
    "%%time\n",
    "    \n",
    "result['als'] = result['user_id'].map(lambda x: get_recommendations(x, model, sparse_user_item, N=5))\n",
    "result.apply(lambda row: precision_at_k(row['als'], row['actual']), axis=1).mean()"
   ]
  },
  {
   "cell_type": "code",
   "execution_count": 85,
   "id": "72b03a0f",
   "metadata": {},
   "outputs": [
    {
     "data": {
      "application/vnd.jupyter.widget-view+json": {
       "model_id": "f306692c9b1d4951a6c9b5901b5c31a9",
       "version_major": 2,
       "version_minor": 0
      },
      "text/plain": [
       "  0%|          | 0/25 [00:00<?, ?it/s]"
      ]
     },
     "metadata": {},
     "output_type": "display_data"
    },
    {
     "name": "stdout",
     "output_type": "stream",
     "text": [
      "CPU times: user 11.6 s, sys: 23.6 ms, total: 11.7 s\n",
      "Wall time: 3.6 s\n"
     ]
    }
   ],
   "source": [
    "%%time\n",
    "\n",
    "model = AlternatingLeastSquares(factors=10, \n",
    "                                regularization=0.001,\n",
    "                                iterations=25, \n",
    "                                calculate_training_loss=True, \n",
    "                                num_threads=4)\n",
    "\n",
    "model.fit(csr_matrix(user_item_matrix).tocsr(),   # На вход item-user matrix\n",
    "          show_progress=True)"
   ]
  },
  {
   "cell_type": "code",
   "execution_count": 86,
   "id": "ff4305a2",
   "metadata": {},
   "outputs": [
    {
     "name": "stdout",
     "output_type": "stream",
     "text": [
      "CPU times: user 3.26 s, sys: 170 ms, total: 3.43 s\n",
      "Wall time: 964 ms\n"
     ]
    },
    {
     "data": {
      "text/plain": [
       "0.19167482859940943"
      ]
     },
     "execution_count": 86,
     "metadata": {},
     "output_type": "execute_result"
    }
   ],
   "source": [
    "%%time\n",
    "    \n",
    "result['my_als'] = result['user_id'].map(lambda x: get_recommendations(x, model, sparse_user_item, N=5))\n",
    "result.apply(lambda row: precision_at_k(row['my_als'], row['actual']), axis=1).mean()"
   ]
  },
  {
   "cell_type": "code",
   "execution_count": 84,
   "id": "b33112bb",
   "metadata": {},
   "outputs": [
    {
     "data": {
      "text/plain": [
       "(array([   1, 2835, 2416, 4494, 4495], dtype=int32),\n",
       " array([0.99999994, 0.88380224, 0.8463278 , 0.84088826, 0.83707815],\n",
       "       dtype=float32))"
      ]
     },
     "execution_count": 84,
     "metadata": {},
     "output_type": "execute_result"
    }
   ],
   "source": [
    "model.similar_items(1, N=5)"
   ]
  },
  {
   "cell_type": "code",
   "execution_count": 69,
   "id": "191e8cb3",
   "metadata": {},
   "outputs": [],
   "source": [
    "tfidf_user_item_matrix = tfidf_weight(user_item_matrix).tocsr() # Применяется к item-user матрице ! "
   ]
  },
  {
   "cell_type": "code",
   "execution_count": 98,
   "id": "7d3c9eb4",
   "metadata": {},
   "outputs": [
    {
     "data": {
      "application/vnd.jupyter.widget-view+json": {
       "model_id": "091db0760f0d462793c28b8da3c3ac6e",
       "version_major": 2,
       "version_minor": 0
      },
      "text/plain": [
       "  0%|          | 0/5 [00:00<?, ?it/s]"
      ]
     },
     "metadata": {},
     "output_type": "display_data"
    },
    {
     "name": "stdout",
     "output_type": "stream",
     "text": [
      "CPU times: user 11 s, sys: 202 ms, total: 11.2 s\n",
      "Wall time: 3.11 s\n"
     ]
    },
    {
     "data": {
      "text/plain": [
       "0.24603330068559914"
      ]
     },
     "execution_count": 98,
     "metadata": {},
     "output_type": "execute_result"
    }
   ],
   "source": [
    "%%time\n",
    "\n",
    "model = AlternatingLeastSquares(factors=70, \n",
    "                                regularization=0.1,\n",
    "                                iterations=5, \n",
    "                                calculate_training_loss=True, \n",
    "                                num_threads=4,\n",
    "                                random_state=42)\n",
    "\n",
    "model.fit(tfidf_user_item_matrix,  # На вход item-user matrix\n",
    "          show_progress=True)\n",
    "\n",
    "result['als_tfidf'] = result['user_id'].map(lambda x: get_recommendations(x, model, sparse_user_item, N=5))\n",
    "\n",
    "result.apply(lambda row: precision_at_k(row['als_tfidf'], row['actual']), axis=1).mean()"
   ]
  },
  {
   "cell_type": "code",
   "execution_count": 88,
   "id": "713da72d",
   "metadata": {},
   "outputs": [],
   "source": [
    "bm25_user_item_matrix = bm25_weight(user_item_matrix).tocsr() # Применяется к item-user матрице ! "
   ]
  },
  {
   "cell_type": "code",
   "execution_count": 97,
   "id": "a0c2f9c8",
   "metadata": {},
   "outputs": [
    {
     "data": {
      "application/vnd.jupyter.widget-view+json": {
       "model_id": "2cd1945b4dba4f4b8d461a4b91d79137",
       "version_major": 2,
       "version_minor": 0
      },
      "text/plain": [
       "  0%|          | 0/5 [00:00<?, ?it/s]"
      ]
     },
     "metadata": {},
     "output_type": "display_data"
    },
    {
     "name": "stdout",
     "output_type": "stream",
     "text": [
      "CPU times: user 11.3 s, sys: 236 ms, total: 11.5 s\n",
      "Wall time: 3.22 s\n"
     ]
    },
    {
     "data": {
      "text/plain": [
       "0.2364348677766864"
      ]
     },
     "execution_count": 97,
     "metadata": {},
     "output_type": "execute_result"
    }
   ],
   "source": [
    "%%time\n",
    "\n",
    "model = AlternatingLeastSquares(factors=70, \n",
    "                                regularization=0.1,\n",
    "                                iterations=5,\n",
    "                                calculate_training_loss=True, \n",
    "                                num_threads=4,\n",
    "                                random_state=42) # K - кол-во билжайших соседей\n",
    "\n",
    "model.fit(csr_matrix(bm25_user_item_matrix),  # На вход item-user matrix\n",
    "          show_progress=True)\n",
    "\n",
    "result['als_bm25'] = result['user_id'].map(lambda x: get_recommendations(x, model, sparse_user_item, N=5))\n",
    "\n",
    "result.apply(lambda row: precision_at_k(row['als_bm25'], row['actual']), axis=1).mean()"
   ]
  },
  {
   "cell_type": "code",
   "execution_count": 99,
   "id": "48006dd8",
   "metadata": {},
   "outputs": [
    {
     "data": {
      "text/html": [
       "<div>\n",
       "<style scoped>\n",
       "    .dataframe tbody tr th:only-of-type {\n",
       "        vertical-align: middle;\n",
       "    }\n",
       "\n",
       "    .dataframe tbody tr th {\n",
       "        vertical-align: top;\n",
       "    }\n",
       "\n",
       "    .dataframe thead th {\n",
       "        text-align: right;\n",
       "    }\n",
       "</style>\n",
       "<table border=\"1\" class=\"dataframe\">\n",
       "  <thead>\n",
       "    <tr style=\"text-align: right;\">\n",
       "      <th></th>\n",
       "      <th>user_id</th>\n",
       "      <th>actual</th>\n",
       "      <th>als</th>\n",
       "      <th>my_als</th>\n",
       "      <th>als_tfidf</th>\n",
       "      <th>als_bm25</th>\n",
       "    </tr>\n",
       "  </thead>\n",
       "  <tbody>\n",
       "    <tr>\n",
       "      <th>0</th>\n",
       "      <td>1</td>\n",
       "      <td>[821867, 834484, 856942, 865456, 889248, 90795...</td>\n",
       "      <td>[1105488, 1033142, 5569374, 979707, 995242]</td>\n",
       "      <td>[862349, 1082185, 981760, 885290, 878996]</td>\n",
       "      <td>[1082185, 995242, 1100972, 1005186, 856942]</td>\n",
       "      <td>[5569374, 1082185, 995242, 979707, 901062]</td>\n",
       "    </tr>\n",
       "    <tr>\n",
       "      <th>1</th>\n",
       "      <td>3</td>\n",
       "      <td>[835476, 851057, 872021, 878302, 879948, 90963...</td>\n",
       "      <td>[1106523, 1133018, 910032, 5569327, 1022003]</td>\n",
       "      <td>[1029743, 1082185, 8090521, 883404, 951590]</td>\n",
       "      <td>[951590, 826249, 1106523, 910032, 1092026]</td>\n",
       "      <td>[951590, 1106523, 1053690, 5569230, 1029743]</td>\n",
       "    </tr>\n",
       "    <tr>\n",
       "      <th>2</th>\n",
       "      <td>6</td>\n",
       "      <td>[920308, 926804, 946489, 1006718, 1017061, 107...</td>\n",
       "      <td>[866211, 1051516, 1007195, 878996, 904360]</td>\n",
       "      <td>[834484, 1037863, 1022254, 854852, 1024306]</td>\n",
       "      <td>[1082185, 1024306, 878996, 1127831, 965267]</td>\n",
       "      <td>[1082185, 1024306, 834484, 965267, 904360]</td>\n",
       "    </tr>\n",
       "    <tr>\n",
       "      <th>3</th>\n",
       "      <td>7</td>\n",
       "      <td>[840386, 889774, 898068, 909714, 929067, 95347...</td>\n",
       "      <td>[1058997, 1126899, 1082185, 938700, 893018]</td>\n",
       "      <td>[1082185, 6534178, 995242, 1029743, 981760]</td>\n",
       "      <td>[849843, 1082185, 6534178, 1003188, 938700]</td>\n",
       "      <td>[1003188, 1082185, 1122358, 1015247, 6944571]</td>\n",
       "    </tr>\n",
       "    <tr>\n",
       "      <th>4</th>\n",
       "      <td>8</td>\n",
       "      <td>[835098, 872137, 910439, 924610, 992977, 10412...</td>\n",
       "      <td>[938700, 913785, 844179, 1068719, 1053690]</td>\n",
       "      <td>[1082185, 826249, 1098066, 981760, 1029743]</td>\n",
       "      <td>[1029743, 840361, 995242, 883404, 1082185]</td>\n",
       "      <td>[844165, 995242, 1068719, 1029743, 840361]</td>\n",
       "    </tr>\n",
       "    <tr>\n",
       "      <th>...</th>\n",
       "      <td>...</td>\n",
       "      <td>...</td>\n",
       "      <td>...</td>\n",
       "      <td>...</td>\n",
       "      <td>...</td>\n",
       "      <td>...</td>\n",
       "    </tr>\n",
       "    <tr>\n",
       "      <th>2037</th>\n",
       "      <td>2496</td>\n",
       "      <td>[6534178]</td>\n",
       "      <td>[914190, 1013321, 1070702, 840361, 854852]</td>\n",
       "      <td>[844179, 826249, 1004906, 1098066, 1029743]</td>\n",
       "      <td>[844179, 840361, 1082185, 916122, 995785]</td>\n",
       "      <td>[6534178, 1133018, 1106523, 844179, 834484]</td>\n",
       "    </tr>\n",
       "    <tr>\n",
       "      <th>2038</th>\n",
       "      <td>2497</td>\n",
       "      <td>[1016709, 9835695, 1132298, 16809501, 845294, ...</td>\n",
       "      <td>[5569230, 957951, 951590, 1051323, 908531]</td>\n",
       "      <td>[899624, 833025, 844179, 1004906, 923746]</td>\n",
       "      <td>[5569230, 951590, 826249, 845208, 899624]</td>\n",
       "      <td>[5569230, 899624, 1098066, 5569471, 981760]</td>\n",
       "    </tr>\n",
       "    <tr>\n",
       "      <th>2039</th>\n",
       "      <td>2498</td>\n",
       "      <td>[15716530, 834484, 901776, 914190, 958382, 972...</td>\n",
       "      <td>[9526410, 1053690, 1070820, 1082185, 6534178]</td>\n",
       "      <td>[1082185, 6534178, 1029743, 995242, 981760]</td>\n",
       "      <td>[995242, 862349, 1070820, 6534178, 840361]</td>\n",
       "      <td>[1070820, 995242, 1053690, 6534178, 1029743]</td>\n",
       "    </tr>\n",
       "    <tr>\n",
       "      <th>2040</th>\n",
       "      <td>2499</td>\n",
       "      <td>[867188, 877580, 902396, 914190, 951590, 95813...</td>\n",
       "      <td>[6534178, 929668, 1004906, 1098066, 826249]</td>\n",
       "      <td>[1029743, 1082185, 883404, 826249, 6534178]</td>\n",
       "      <td>[883404, 826249, 1029743, 6534178, 1098066]</td>\n",
       "      <td>[883404, 1053690, 1029743, 826249, 6534178]</td>\n",
       "    </tr>\n",
       "    <tr>\n",
       "      <th>2041</th>\n",
       "      <td>2500</td>\n",
       "      <td>[852182, 856345, 923746, 948670, 1018007, 1044...</td>\n",
       "      <td>[1071939, 859075, 1058997, 1082185, 1039156]</td>\n",
       "      <td>[1082185, 6534178, 995242, 1029743, 1126899]</td>\n",
       "      <td>[6534178, 1082185, 1058997, 1029743, 995242]</td>\n",
       "      <td>[1058997, 843756, 1082185, 6534178, 1126899]</td>\n",
       "    </tr>\n",
       "  </tbody>\n",
       "</table>\n",
       "<p>2042 rows × 6 columns</p>\n",
       "</div>"
      ],
      "text/plain": [
       "      user_id                                             actual  \\\n",
       "0           1  [821867, 834484, 856942, 865456, 889248, 90795...   \n",
       "1           3  [835476, 851057, 872021, 878302, 879948, 90963...   \n",
       "2           6  [920308, 926804, 946489, 1006718, 1017061, 107...   \n",
       "3           7  [840386, 889774, 898068, 909714, 929067, 95347...   \n",
       "4           8  [835098, 872137, 910439, 924610, 992977, 10412...   \n",
       "...       ...                                                ...   \n",
       "2037     2496                                          [6534178]   \n",
       "2038     2497  [1016709, 9835695, 1132298, 16809501, 845294, ...   \n",
       "2039     2498  [15716530, 834484, 901776, 914190, 958382, 972...   \n",
       "2040     2499  [867188, 877580, 902396, 914190, 951590, 95813...   \n",
       "2041     2500  [852182, 856345, 923746, 948670, 1018007, 1044...   \n",
       "\n",
       "                                                als  \\\n",
       "0       [1105488, 1033142, 5569374, 979707, 995242]   \n",
       "1      [1106523, 1133018, 910032, 5569327, 1022003]   \n",
       "2        [866211, 1051516, 1007195, 878996, 904360]   \n",
       "3       [1058997, 1126899, 1082185, 938700, 893018]   \n",
       "4        [938700, 913785, 844179, 1068719, 1053690]   \n",
       "...                                             ...   \n",
       "2037     [914190, 1013321, 1070702, 840361, 854852]   \n",
       "2038     [5569230, 957951, 951590, 1051323, 908531]   \n",
       "2039  [9526410, 1053690, 1070820, 1082185, 6534178]   \n",
       "2040    [6534178, 929668, 1004906, 1098066, 826249]   \n",
       "2041   [1071939, 859075, 1058997, 1082185, 1039156]   \n",
       "\n",
       "                                            my_als  \\\n",
       "0        [862349, 1082185, 981760, 885290, 878996]   \n",
       "1      [1029743, 1082185, 8090521, 883404, 951590]   \n",
       "2      [834484, 1037863, 1022254, 854852, 1024306]   \n",
       "3      [1082185, 6534178, 995242, 1029743, 981760]   \n",
       "4      [1082185, 826249, 1098066, 981760, 1029743]   \n",
       "...                                            ...   \n",
       "2037   [844179, 826249, 1004906, 1098066, 1029743]   \n",
       "2038     [899624, 833025, 844179, 1004906, 923746]   \n",
       "2039   [1082185, 6534178, 1029743, 995242, 981760]   \n",
       "2040   [1029743, 1082185, 883404, 826249, 6534178]   \n",
       "2041  [1082185, 6534178, 995242, 1029743, 1126899]   \n",
       "\n",
       "                                         als_tfidf  \\\n",
       "0      [1082185, 995242, 1100972, 1005186, 856942]   \n",
       "1       [951590, 826249, 1106523, 910032, 1092026]   \n",
       "2      [1082185, 1024306, 878996, 1127831, 965267]   \n",
       "3      [849843, 1082185, 6534178, 1003188, 938700]   \n",
       "4       [1029743, 840361, 995242, 883404, 1082185]   \n",
       "...                                            ...   \n",
       "2037     [844179, 840361, 1082185, 916122, 995785]   \n",
       "2038     [5569230, 951590, 826249, 845208, 899624]   \n",
       "2039    [995242, 862349, 1070820, 6534178, 840361]   \n",
       "2040   [883404, 826249, 1029743, 6534178, 1098066]   \n",
       "2041  [6534178, 1082185, 1058997, 1029743, 995242]   \n",
       "\n",
       "                                           als_bm25  \n",
       "0        [5569374, 1082185, 995242, 979707, 901062]  \n",
       "1      [951590, 1106523, 1053690, 5569230, 1029743]  \n",
       "2        [1082185, 1024306, 834484, 965267, 904360]  \n",
       "3     [1003188, 1082185, 1122358, 1015247, 6944571]  \n",
       "4        [844165, 995242, 1068719, 1029743, 840361]  \n",
       "...                                             ...  \n",
       "2037    [6534178, 1133018, 1106523, 844179, 834484]  \n",
       "2038    [5569230, 899624, 1098066, 5569471, 981760]  \n",
       "2039   [1070820, 995242, 1053690, 6534178, 1029743]  \n",
       "2040    [883404, 1053690, 1029743, 826249, 6534178]  \n",
       "2041   [1058997, 843756, 1082185, 6534178, 1126899]  \n",
       "\n",
       "[2042 rows x 6 columns]"
      ]
     },
     "execution_count": 99,
     "metadata": {},
     "output_type": "execute_result"
    }
   ],
   "source": [
    "result"
   ]
  },
  {
   "cell_type": "code",
   "execution_count": 100,
   "id": "4409eb04",
   "metadata": {},
   "outputs": [],
   "source": [
    "def ap_at_k(recommended_list, bought_list, k=5):\n",
    "    \n",
    "    bought_list = np.array(bought_list)\n",
    "    recommended_list = np.array(recommended_list)\n",
    "    \n",
    "    flags = np.isin(recommended_list,bought_list)\n",
    "    \n",
    "    if sum(flags) == 0:\n",
    "        return 0\n",
    "    \n",
    "    sum_ = 0\n",
    "    for i in range(k):\n",
    "        \n",
    "        if flags[i]:\n",
    "            p_k = precision_at_k(recommended_list, bought_list, k=i+1)\n",
    "            sum_ += p_k\n",
    "            \n",
    "    result = sum_ / k\n",
    "    \n",
    "    return result"
   ]
  },
  {
   "cell_type": "code",
   "execution_count": 101,
   "id": "9d95fd98",
   "metadata": {},
   "outputs": [
    {
     "data": {
      "text/plain": [
       "0.16050930460332946"
      ]
     },
     "execution_count": 101,
     "metadata": {},
     "output_type": "execute_result"
    }
   ],
   "source": [
    "result.apply(lambda row: ap_at_k(row['als_bm25'], row['actual']), axis=1).mean()"
   ]
  },
  {
   "cell_type": "code",
   "execution_count": 102,
   "id": "60d0bb8f",
   "metadata": {},
   "outputs": [
    {
     "data": {
      "text/plain": [
       "0.17010284035259549"
      ]
     },
     "execution_count": 102,
     "metadata": {},
     "output_type": "execute_result"
    }
   ],
   "source": [
    "result.apply(lambda row: ap_at_k(row['als_tfidf'], row['actual']), axis=1).mean()"
   ]
  },
  {
   "cell_type": "code",
   "execution_count": 104,
   "id": "f9dfd1f6",
   "metadata": {},
   "outputs": [
    {
     "data": {
      "text/plain": [
       "0.12606431603003518"
      ]
     },
     "execution_count": 104,
     "metadata": {},
     "output_type": "execute_result"
    }
   ],
   "source": [
    "result.apply(lambda row: ap_at_k(row['my_als'], row['actual']), axis=1).mean()"
   ]
  },
  {
   "cell_type": "code",
   "execution_count": 105,
   "id": "caee6eb1",
   "metadata": {},
   "outputs": [
    {
     "data": {
      "text/plain": [
       "0.11038197845249717"
      ]
     },
     "execution_count": 105,
     "metadata": {},
     "output_type": "execute_result"
    }
   ],
   "source": [
    "result.apply(lambda row: ap_at_k(row['als'], row['actual']), axis=1).mean()"
   ]
  },
  {
   "cell_type": "markdown",
   "id": "5177f99a",
   "metadata": {},
   "source": [
    "Выводы: \n",
    "    Коэффициент Региляризации зависит от числа факторов и числа итераций - нужно подбирать гиперпараметры для получения лучшей модели.\n",
    "    Взвешивание матрицы user_item_matrix с помощью bm25 и tfidf дают лучший результат, чем без него.\n",
    "    Лучшая модель по метрикам - als_tfidf"
   ]
  }
 ],
 "metadata": {
  "kernelspec": {
   "display_name": "Python 3 (ipykernel)",
   "language": "python",
   "name": "python3"
  },
  "language_info": {
   "codemirror_mode": {
    "name": "ipython",
    "version": 3
   },
   "file_extension": ".py",
   "mimetype": "text/x-python",
   "name": "python",
   "nbconvert_exporter": "python",
   "pygments_lexer": "ipython3",
   "version": "3.9.7"
  }
 },
 "nbformat": 4,
 "nbformat_minor": 5
}
