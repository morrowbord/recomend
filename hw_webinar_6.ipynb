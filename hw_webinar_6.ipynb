{
 "cells": [
  {
   "cell_type": "markdown",
   "metadata": {
    "id": "nMBdGcvjC4Ji"
   },
   "source": [
    "# Вебинар 6. Двухуровневые модели рекомендаций\n"
   ]
  },
  {
   "cell_type": "code",
   "execution_count": 2,
   "metadata": {},
   "outputs": [],
   "source": [
    "%load_ext autoreload\n",
    "%autoreload 2"
   ]
  },
  {
   "cell_type": "code",
   "execution_count": 3,
   "metadata": {
    "id": "5Aur99NsC4Jm",
    "outputId": "9b9a338b-a52f-4253-9694-ac431b62eefc"
   },
   "outputs": [],
   "source": [
    "import pandas as pd\n",
    "import numpy as np\n",
    "import matplotlib.pyplot as plt\n",
    "%matplotlib inline\n",
    "\n",
    "# Для работы с матрицами\n",
    "from scipy.sparse import csr_matrix\n",
    "\n",
    "# Матричная факторизация\n",
    "from implicit import als\n",
    "\n",
    "# Модель второго уровня\n",
    "from lightgbm import LGBMClassifier\n",
    "\n",
    "import os, sys\n",
    "module_path = os.path.abspath(os.path.join(os.pardir))\n",
    "if module_path not in sys.path:\n",
    "    sys.path.append(module_path)\n",
    "\n",
    "# Написанные нами функции\n",
    "from best_rec_lib.metrics import precision_at_k, recall_at_k, ap_k\n",
    "from best_rec_lib.utils import prefilter_items\n",
    "from best_rec_lib.recommenders import MainRecommender"
   ]
  },
  {
   "cell_type": "code",
   "execution_count": 4,
   "metadata": {
    "id": "vso_erSdC4Jo",
    "outputId": "da20dbf1-3086-4fd6-ac92-f7653d7f9f71"
   },
   "outputs": [
    {
     "data": {
      "text/html": [
       "<div>\n",
       "<style scoped>\n",
       "    .dataframe tbody tr th:only-of-type {\n",
       "        vertical-align: middle;\n",
       "    }\n",
       "\n",
       "    .dataframe tbody tr th {\n",
       "        vertical-align: top;\n",
       "    }\n",
       "\n",
       "    .dataframe thead th {\n",
       "        text-align: right;\n",
       "    }\n",
       "</style>\n",
       "<table border=\"1\" class=\"dataframe\">\n",
       "  <thead>\n",
       "    <tr style=\"text-align: right;\">\n",
       "      <th></th>\n",
       "      <th>user_id</th>\n",
       "      <th>basket_id</th>\n",
       "      <th>day</th>\n",
       "      <th>item_id</th>\n",
       "      <th>quantity</th>\n",
       "      <th>sales_value</th>\n",
       "      <th>store_id</th>\n",
       "      <th>retail_disc</th>\n",
       "      <th>trans_time</th>\n",
       "      <th>week_no</th>\n",
       "      <th>coupon_disc</th>\n",
       "      <th>coupon_match_disc</th>\n",
       "    </tr>\n",
       "  </thead>\n",
       "  <tbody>\n",
       "    <tr>\n",
       "      <th>0</th>\n",
       "      <td>2375</td>\n",
       "      <td>26984851472</td>\n",
       "      <td>1</td>\n",
       "      <td>1004906</td>\n",
       "      <td>1</td>\n",
       "      <td>1.39</td>\n",
       "      <td>364</td>\n",
       "      <td>-0.6</td>\n",
       "      <td>1631</td>\n",
       "      <td>1</td>\n",
       "      <td>0.0</td>\n",
       "      <td>0.0</td>\n",
       "    </tr>\n",
       "    <tr>\n",
       "      <th>1</th>\n",
       "      <td>2375</td>\n",
       "      <td>26984851472</td>\n",
       "      <td>1</td>\n",
       "      <td>1033142</td>\n",
       "      <td>1</td>\n",
       "      <td>0.82</td>\n",
       "      <td>364</td>\n",
       "      <td>0.0</td>\n",
       "      <td>1631</td>\n",
       "      <td>1</td>\n",
       "      <td>0.0</td>\n",
       "      <td>0.0</td>\n",
       "    </tr>\n",
       "  </tbody>\n",
       "</table>\n",
       "</div>"
      ],
      "text/plain": [
       "   user_id    basket_id  day  item_id  quantity  sales_value  store_id  \\\n",
       "0     2375  26984851472    1  1004906         1         1.39       364   \n",
       "1     2375  26984851472    1  1033142         1         0.82       364   \n",
       "\n",
       "   retail_disc  trans_time  week_no  coupon_disc  coupon_match_disc  \n",
       "0         -0.6        1631        1          0.0                0.0  \n",
       "1          0.0        1631        1          0.0                0.0  "
      ]
     },
     "execution_count": 4,
     "metadata": {},
     "output_type": "execute_result"
    }
   ],
   "source": [
    "data = pd.read_csv('../data/retail_train.csv')\n",
    "item_features = pd.read_csv('../data/product.csv')\n",
    "user_features = pd.read_csv('../data/hh_demographic.csv')\n",
    "\n",
    "# column processing\n",
    "item_features.columns = [col.lower() for col in item_features.columns]\n",
    "user_features.columns = [col.lower() for col in user_features.columns]\n",
    "\n",
    "item_features.rename(columns={'product_id': 'item_id'}, inplace=True)\n",
    "user_features.rename(columns={'household_key': 'user_id'}, inplace=True)\n",
    "\n",
    "\n",
    "# Важна схема обучения и валидации!\n",
    "# -- давние покупки -- | -- 6 недель -- | -- 3 недель -- \n",
    "# подобрать размер 2-ого датасета (6 недель) --> learning curve (зависимость метрики recall@k от размера датасета)\n",
    "val_lvl_1_size_weeks = 6\n",
    "val_lvl_2_size_weeks = 3\n",
    "\n",
    "data_train_lvl_1 = data[data['week_no'] < data['week_no'].max() - (val_lvl_1_size_weeks + val_lvl_2_size_weeks)]\n",
    "data_val_lvl_1 = data[(data['week_no'] >= data['week_no'].max() - (val_lvl_1_size_weeks + val_lvl_2_size_weeks)) &\n",
    "                      (data['week_no'] < data['week_no'].max() - (val_lvl_2_size_weeks))]\n",
    "\n",
    "data_train_lvl_2 = data_val_lvl_1.copy()  # Для наглядности. Далее мы добавим изменения, и они будут отличаться\n",
    "data_val_lvl_2 = data[data['week_no'] >= data['week_no'].max() - val_lvl_2_size_weeks]\n",
    "\n",
    "data_train_lvl_1.head(2)"
   ]
  },
  {
   "cell_type": "code",
   "execution_count": 5,
   "metadata": {
    "id": "zcnV3l4XC4Jp",
    "outputId": "d58f889c-0671-4bb9-b2b6-2dc2e8c24fce"
   },
   "outputs": [
    {
     "name": "stdout",
     "output_type": "stream",
     "text": [
      "Decreased # items from 83685 to 5001\n"
     ]
    }
   ],
   "source": [
    "n_items_before = data_train_lvl_1['item_id'].nunique()\n",
    "\n",
    "data_train_lvl_1 = prefilter_items(data_train_lvl_1, item_features=item_features, take_n_popular=5000)\n",
    "\n",
    "n_items_after = data_train_lvl_1['item_id'].nunique()\n",
    "print('Decreased # items from {} to {}'.format(n_items_before, n_items_after))"
   ]
  },
  {
   "cell_type": "code",
   "execution_count": 6,
   "metadata": {},
   "outputs": [
    {
     "data": {
      "text/plain": [
       "array([2375, 1364, 1172, ...,  363, 1721, 1480])"
      ]
     },
     "execution_count": 6,
     "metadata": {},
     "output_type": "execute_result"
    }
   ],
   "source": [
    "data_train_lvl_1[\"user_id\"].unique()"
   ]
  },
  {
   "cell_type": "code",
   "execution_count": 7,
   "metadata": {},
   "outputs": [
    {
     "data": {
      "text/plain": [
       "(861404, 13)"
      ]
     },
     "execution_count": 7,
     "metadata": {},
     "output_type": "execute_result"
    }
   ],
   "source": [
    "data_train_lvl_1.shape"
   ]
  },
  {
   "cell_type": "code",
   "execution_count": 8,
   "metadata": {
    "colab": {
     "referenced_widgets": [
      "729d4287bb794971802d9da5e141f10a",
      "32375ef613474af6a0fcadb9255eb835"
     ]
    },
    "id": "zgYXRQ0lC4Jq",
    "jupyter": {
     "outputs_hidden": true
    },
    "outputId": "d9ea41ae-3b4d-41b4-fc46-90868ebb9894",
    "tags": []
   },
   "outputs": [
    {
     "name": "stderr",
     "output_type": "stream",
     "text": [
      "/home/nal/anaconda3/lib/python3.9/site-packages/implicit/utils.py:33: UserWarning: Intel MKL BLAS detected. Its highly recommend to set the environment variable 'export MKL_NUM_THREADS=1' to disable its internal multithreading\n",
      "  warnings.warn(\n"
     ]
    },
    {
     "data": {
      "application/vnd.jupyter.widget-view+json": {
       "model_id": "c05b12ac3f7b4e7b8ccc1efe56af1d02",
       "version_major": 2,
       "version_minor": 0
      },
      "text/plain": [
       "  0%|          | 0/15 [00:00<?, ?it/s]"
      ]
     },
     "metadata": {},
     "output_type": "display_data"
    },
    {
     "data": {
      "application/vnd.jupyter.widget-view+json": {
       "model_id": "266b30b97e4f4b69a2752c68f9f6cd3d",
       "version_major": 2,
       "version_minor": 0
      },
      "text/plain": [
       "  0%|          | 0/5001 [00:00<?, ?it/s]"
      ]
     },
     "metadata": {},
     "output_type": "display_data"
    }
   ],
   "source": [
    "recommender = MainRecommender(data_train_lvl_1)"
   ]
  },
  {
   "cell_type": "markdown",
   "metadata": {
    "id": "Bqs9Sw_YC4Jt"
   },
   "source": [
    "### Задание 1\n",
    "\n",
    "A) Попробуйте различные варианты генерации кандидатов. Какие из них дают наибольший recall@k ?\n",
    "- Пока пробуем отобрать 50 кандидатов (k=50)\n",
    "- Качество измеряем на data_val_lvl_1: следующие 6 недель после трейна\n",
    "\n",
    "Дают ли own recommendtions + top-popular лучший recall?  \n",
    "\n",
    "B)* Как зависит recall@k от k? Постройте для одной схемы генерации кандидатов эту зависимость для k = {20, 50, 100, 200, 500}  \n",
    "C)* Исходя из прошлого вопроса, как вы думаете, какое значение k является наиболее разумным?"
   ]
  },
  {
   "cell_type": "code",
   "execution_count": 9,
   "metadata": {
    "id": "frt2RzDWC4Jt",
    "outputId": "7c594abf-4a34-406b-9897-8bfbddf69a93"
   },
   "outputs": [
    {
     "data": {
      "text/html": [
       "<div>\n",
       "<style scoped>\n",
       "    .dataframe tbody tr th:only-of-type {\n",
       "        vertical-align: middle;\n",
       "    }\n",
       "\n",
       "    .dataframe tbody tr th {\n",
       "        vertical-align: top;\n",
       "    }\n",
       "\n",
       "    .dataframe thead th {\n",
       "        text-align: right;\n",
       "    }\n",
       "</style>\n",
       "<table border=\"1\" class=\"dataframe\">\n",
       "  <thead>\n",
       "    <tr style=\"text-align: right;\">\n",
       "      <th></th>\n",
       "      <th>user_id</th>\n",
       "      <th>actual</th>\n",
       "    </tr>\n",
       "  </thead>\n",
       "  <tbody>\n",
       "    <tr>\n",
       "      <th>0</th>\n",
       "      <td>1</td>\n",
       "      <td>[853529, 865456, 867607, 872137, 874905, 87524...</td>\n",
       "    </tr>\n",
       "    <tr>\n",
       "      <th>1</th>\n",
       "      <td>2</td>\n",
       "      <td>[15830248, 838136, 839656, 861272, 866211, 870...</td>\n",
       "    </tr>\n",
       "  </tbody>\n",
       "</table>\n",
       "</div>"
      ],
      "text/plain": [
       "   user_id                                             actual\n",
       "0        1  [853529, 865456, 867607, 872137, 874905, 87524...\n",
       "1        2  [15830248, 838136, 839656, 861272, 866211, 870..."
      ]
     },
     "execution_count": 9,
     "metadata": {},
     "output_type": "execute_result"
    }
   ],
   "source": [
    "result_lvl_1 = data_val_lvl_1.groupby('user_id')['item_id'].unique().reset_index()\n",
    "result_lvl_1.columns=['user_id', 'actual']\n",
    "result_lvl_1.head(2)"
   ]
  },
  {
   "cell_type": "code",
   "execution_count": 10,
   "metadata": {
    "scrolled": true
   },
   "outputs": [],
   "source": [
    "# your_code\n",
    "result_lvl_1['recommended_20']=result_lvl_1['user_id'].map(lambda x: recommender.get_als_recommendations(x,N=20))"
   ]
  },
  {
   "cell_type": "code",
   "execution_count": 11,
   "metadata": {
    "id": "xM5W4mU4C4Jt"
   },
   "outputs": [],
   "source": [
    "# your_code\n",
    "result_lvl_1['recommended_50']=result_lvl_1['user_id'].map(lambda x: recommender.get_als_recommendations(x,N=50))"
   ]
  },
  {
   "cell_type": "code",
   "execution_count": 12,
   "metadata": {},
   "outputs": [],
   "source": [
    "result_lvl_1['recommended_100']=result_lvl_1['user_id'].map(lambda x: recommender.get_als_recommendations(x,N=100))"
   ]
  },
  {
   "cell_type": "code",
   "execution_count": 13,
   "metadata": {},
   "outputs": [],
   "source": [
    "result_lvl_1['recommended_200']=result_lvl_1['user_id'].map(lambda x: recommender.get_als_recommendations(x,N=200))"
   ]
  },
  {
   "cell_type": "code",
   "execution_count": 14,
   "metadata": {},
   "outputs": [],
   "source": [
    "result_lvl_1['recommended_500']=result_lvl_1['user_id'].map(lambda x: recommender.get_als_recommendations(x,N=500))"
   ]
  },
  {
   "cell_type": "code",
   "execution_count": 16,
   "metadata": {},
   "outputs": [],
   "source": [
    "result_lvl_1['own']=result_lvl_1['user_id'].map(lambda x: recommender.get_own_recommendations(x,N=500))"
   ]
  },
  {
   "cell_type": "code",
   "execution_count": 15,
   "metadata": {},
   "outputs": [],
   "source": [
    "result_lvl_1['recommended_1500']=result_lvl_1['user_id'].map(lambda x: recommender.get_own_recommendations(x,N=1500))"
   ]
  },
  {
   "cell_type": "code",
   "execution_count": 17,
   "metadata": {},
   "outputs": [
    {
     "data": {
      "text/html": [
       "<div>\n",
       "<style scoped>\n",
       "    .dataframe tbody tr th:only-of-type {\n",
       "        vertical-align: middle;\n",
       "    }\n",
       "\n",
       "    .dataframe tbody tr th {\n",
       "        vertical-align: top;\n",
       "    }\n",
       "\n",
       "    .dataframe thead th {\n",
       "        text-align: right;\n",
       "    }\n",
       "</style>\n",
       "<table border=\"1\" class=\"dataframe\">\n",
       "  <thead>\n",
       "    <tr style=\"text-align: right;\">\n",
       "      <th></th>\n",
       "      <th>user_id</th>\n",
       "      <th>actual</th>\n",
       "      <th>recommended_20</th>\n",
       "      <th>recommended_50</th>\n",
       "      <th>recommended_100</th>\n",
       "      <th>recommended_200</th>\n",
       "      <th>recommended_500</th>\n",
       "      <th>recommended_1500</th>\n",
       "      <th>own</th>\n",
       "    </tr>\n",
       "  </thead>\n",
       "  <tbody>\n",
       "    <tr>\n",
       "      <th>0</th>\n",
       "      <td>1</td>\n",
       "      <td>[853529, 865456, 867607, 872137, 874905, 87524...</td>\n",
       "      <td>[5569374, 940947, 878996, 1070820, 1029743, 88...</td>\n",
       "      <td>[5569374, 940947, 878996, 1070820, 1029743, 88...</td>\n",
       "      <td>[5569374, 940947, 878996, 1070820, 1029743, 88...</td>\n",
       "      <td>[5569374, 940947, 878996, 1070820, 1029743, 88...</td>\n",
       "      <td>[5569374, 940947, 878996, 1070820, 1029743, 88...</td>\n",
       "      <td>[1029743, 1106523, 5569230, 916122, 844179, 10...</td>\n",
       "      <td>[1029743, 1106523, 5569230, 916122, 844179, 10...</td>\n",
       "    </tr>\n",
       "    <tr>\n",
       "      <th>1</th>\n",
       "      <td>2</td>\n",
       "      <td>[15830248, 838136, 839656, 861272, 866211, 870...</td>\n",
       "      <td>[5569230, 1029743, 8090521, 1106523, 8090537, ...</td>\n",
       "      <td>[5569230, 1029743, 8090521, 1106523, 8090537, ...</td>\n",
       "      <td>[5569230, 1029743, 8090521, 1106523, 8090537, ...</td>\n",
       "      <td>[5569230, 1029743, 8090521, 1106523, 8090537, ...</td>\n",
       "      <td>[5569230, 1029743, 8090521, 1106523, 8090537, ...</td>\n",
       "      <td>[1029743, 1106523, 5569230, 916122, 844179, 10...</td>\n",
       "      <td>[1029743, 1106523, 5569230, 916122, 844179, 10...</td>\n",
       "    </tr>\n",
       "    <tr>\n",
       "      <th>2</th>\n",
       "      <td>4</td>\n",
       "      <td>[883932, 970760, 1035676, 1055863, 1097610, 67...</td>\n",
       "      <td>[1029743, 1106523, 5569230, 1075368, 844179, 9...</td>\n",
       "      <td>[1029743, 1106523, 5569230, 1075368, 844179, 9...</td>\n",
       "      <td>[1029743, 1106523, 5569230, 1075368, 844179, 9...</td>\n",
       "      <td>[1029743, 1106523, 5569230, 1075368, 844179, 9...</td>\n",
       "      <td>[1029743, 1106523, 5569230, 1075368, 844179, 9...</td>\n",
       "      <td>[1029743, 1106523, 5569230, 916122, 844179, 10...</td>\n",
       "      <td>[1029743, 1106523, 5569230, 916122, 844179, 10...</td>\n",
       "    </tr>\n",
       "    <tr>\n",
       "      <th>3</th>\n",
       "      <td>6</td>\n",
       "      <td>[1024306, 1102949, 6548453, 835394, 940804, 96...</td>\n",
       "      <td>[986912, 878996, 965267, 1026118, 835098, 8966...</td>\n",
       "      <td>[986912, 878996, 965267, 1026118, 835098, 8966...</td>\n",
       "      <td>[986912, 878996, 965267, 1026118, 835098, 8966...</td>\n",
       "      <td>[986912, 878996, 965267, 1026118, 835098, 8966...</td>\n",
       "      <td>[986912, 878996, 965267, 1026118, 835098, 8966...</td>\n",
       "      <td>[1029743, 1106523, 5569230, 916122, 844179, 10...</td>\n",
       "      <td>[1029743, 1106523, 5569230, 916122, 844179, 10...</td>\n",
       "    </tr>\n",
       "    <tr>\n",
       "      <th>4</th>\n",
       "      <td>7</td>\n",
       "      <td>[836281, 843306, 845294, 914190, 920456, 93886...</td>\n",
       "      <td>[1029743, 916122, 1126899, 866211, 1122358, 83...</td>\n",
       "      <td>[1029743, 916122, 1126899, 866211, 1122358, 83...</td>\n",
       "      <td>[1029743, 916122, 1126899, 866211, 1122358, 83...</td>\n",
       "      <td>[1029743, 916122, 1126899, 866211, 1122358, 83...</td>\n",
       "      <td>[1029743, 916122, 1126899, 866211, 1122358, 83...</td>\n",
       "      <td>[1029743, 1106523, 5569230, 916122, 844179, 10...</td>\n",
       "      <td>[1029743, 1106523, 5569230, 916122, 844179, 10...</td>\n",
       "    </tr>\n",
       "    <tr>\n",
       "      <th>...</th>\n",
       "      <td>...</td>\n",
       "      <td>...</td>\n",
       "      <td>...</td>\n",
       "      <td>...</td>\n",
       "      <td>...</td>\n",
       "      <td>...</td>\n",
       "      <td>...</td>\n",
       "      <td>...</td>\n",
       "      <td>...</td>\n",
       "    </tr>\n",
       "    <tr>\n",
       "      <th>2149</th>\n",
       "      <td>2496</td>\n",
       "      <td>[831509, 867188, 1013623, 1048851, 5592734, 16...</td>\n",
       "      <td>[844179, 1044078, 916122, 874972, 899624, 1281...</td>\n",
       "      <td>[844179, 1044078, 916122, 874972, 899624, 1281...</td>\n",
       "      <td>[844179, 1044078, 916122, 874972, 899624, 1281...</td>\n",
       "      <td>[844179, 1044078, 916122, 874972, 899624, 1281...</td>\n",
       "      <td>[844179, 1044078, 916122, 874972, 899624, 1281...</td>\n",
       "      <td>[1029743, 1106523, 5569230, 916122, 844179, 10...</td>\n",
       "      <td>[1029743, 1106523, 5569230, 916122, 844179, 10...</td>\n",
       "    </tr>\n",
       "    <tr>\n",
       "      <th>2150</th>\n",
       "      <td>2497</td>\n",
       "      <td>[820291, 824759, 838797, 859010, 859075, 86077...</td>\n",
       "      <td>[5569230, 5569471, 5585510, 854852, 1106523, 1...</td>\n",
       "      <td>[5569230, 5569471, 5585510, 854852, 1106523, 1...</td>\n",
       "      <td>[5569230, 5569471, 5585510, 854852, 1106523, 1...</td>\n",
       "      <td>[5569230, 5569471, 5585510, 854852, 1106523, 1...</td>\n",
       "      <td>[5569230, 5569471, 5585510, 854852, 1106523, 1...</td>\n",
       "      <td>[1029743, 1106523, 5569230, 916122, 844179, 10...</td>\n",
       "      <td>[1029743, 1106523, 5569230, 916122, 844179, 10...</td>\n",
       "    </tr>\n",
       "    <tr>\n",
       "      <th>2151</th>\n",
       "      <td>2498</td>\n",
       "      <td>[865511, 962991, 1076374, 1102358, 5564901, 15...</td>\n",
       "      <td>[1029743, 1070820, 916122, 1126899, 844179, 86...</td>\n",
       "      <td>[1029743, 1070820, 916122, 1126899, 844179, 86...</td>\n",
       "      <td>[1029743, 1070820, 916122, 1126899, 844179, 86...</td>\n",
       "      <td>[1029743, 1070820, 916122, 1126899, 844179, 86...</td>\n",
       "      <td>[1029743, 1070820, 916122, 1126899, 844179, 86...</td>\n",
       "      <td>[1029743, 1106523, 5569230, 916122, 844179, 10...</td>\n",
       "      <td>[1029743, 1106523, 5569230, 916122, 844179, 10...</td>\n",
       "    </tr>\n",
       "    <tr>\n",
       "      <th>2152</th>\n",
       "      <td>2499</td>\n",
       "      <td>[861282, 921744, 1050968, 13842089, 828837, 86...</td>\n",
       "      <td>[1029743, 5569230, 8090521, 1106523, 1044078, ...</td>\n",
       "      <td>[1029743, 5569230, 8090521, 1106523, 1044078, ...</td>\n",
       "      <td>[1029743, 5569230, 8090521, 1106523, 1044078, ...</td>\n",
       "      <td>[1029743, 5569230, 8090521, 1106523, 1044078, ...</td>\n",
       "      <td>[1029743, 5569230, 8090521, 1106523, 1044078, ...</td>\n",
       "      <td>[1029743, 1106523, 5569230, 916122, 844179, 10...</td>\n",
       "      <td>[1029743, 1106523, 5569230, 916122, 844179, 10...</td>\n",
       "    </tr>\n",
       "    <tr>\n",
       "      <th>2153</th>\n",
       "      <td>2500</td>\n",
       "      <td>[856455, 902192, 903476, 931672, 936634, 95170...</td>\n",
       "      <td>[1029743, 1070820, 5569471, 1126899, 916122, 8...</td>\n",
       "      <td>[1029743, 1070820, 5569471, 1126899, 916122, 8...</td>\n",
       "      <td>[1029743, 1070820, 5569471, 1126899, 916122, 8...</td>\n",
       "      <td>[1029743, 1070820, 5569471, 1126899, 916122, 8...</td>\n",
       "      <td>[1029743, 1070820, 5569471, 1126899, 916122, 8...</td>\n",
       "      <td>[1029743, 1106523, 5569230, 916122, 844179, 10...</td>\n",
       "      <td>[1029743, 1106523, 5569230, 916122, 844179, 10...</td>\n",
       "    </tr>\n",
       "  </tbody>\n",
       "</table>\n",
       "<p>2154 rows × 9 columns</p>\n",
       "</div>"
      ],
      "text/plain": [
       "      user_id                                             actual  \\\n",
       "0           1  [853529, 865456, 867607, 872137, 874905, 87524...   \n",
       "1           2  [15830248, 838136, 839656, 861272, 866211, 870...   \n",
       "2           4  [883932, 970760, 1035676, 1055863, 1097610, 67...   \n",
       "3           6  [1024306, 1102949, 6548453, 835394, 940804, 96...   \n",
       "4           7  [836281, 843306, 845294, 914190, 920456, 93886...   \n",
       "...       ...                                                ...   \n",
       "2149     2496  [831509, 867188, 1013623, 1048851, 5592734, 16...   \n",
       "2150     2497  [820291, 824759, 838797, 859010, 859075, 86077...   \n",
       "2151     2498  [865511, 962991, 1076374, 1102358, 5564901, 15...   \n",
       "2152     2499  [861282, 921744, 1050968, 13842089, 828837, 86...   \n",
       "2153     2500  [856455, 902192, 903476, 931672, 936634, 95170...   \n",
       "\n",
       "                                         recommended_20  \\\n",
       "0     [5569374, 940947, 878996, 1070820, 1029743, 88...   \n",
       "1     [5569230, 1029743, 8090521, 1106523, 8090537, ...   \n",
       "2     [1029743, 1106523, 5569230, 1075368, 844179, 9...   \n",
       "3     [986912, 878996, 965267, 1026118, 835098, 8966...   \n",
       "4     [1029743, 916122, 1126899, 866211, 1122358, 83...   \n",
       "...                                                 ...   \n",
       "2149  [844179, 1044078, 916122, 874972, 899624, 1281...   \n",
       "2150  [5569230, 5569471, 5585510, 854852, 1106523, 1...   \n",
       "2151  [1029743, 1070820, 916122, 1126899, 844179, 86...   \n",
       "2152  [1029743, 5569230, 8090521, 1106523, 1044078, ...   \n",
       "2153  [1029743, 1070820, 5569471, 1126899, 916122, 8...   \n",
       "\n",
       "                                         recommended_50  \\\n",
       "0     [5569374, 940947, 878996, 1070820, 1029743, 88...   \n",
       "1     [5569230, 1029743, 8090521, 1106523, 8090537, ...   \n",
       "2     [1029743, 1106523, 5569230, 1075368, 844179, 9...   \n",
       "3     [986912, 878996, 965267, 1026118, 835098, 8966...   \n",
       "4     [1029743, 916122, 1126899, 866211, 1122358, 83...   \n",
       "...                                                 ...   \n",
       "2149  [844179, 1044078, 916122, 874972, 899624, 1281...   \n",
       "2150  [5569230, 5569471, 5585510, 854852, 1106523, 1...   \n",
       "2151  [1029743, 1070820, 916122, 1126899, 844179, 86...   \n",
       "2152  [1029743, 5569230, 8090521, 1106523, 1044078, ...   \n",
       "2153  [1029743, 1070820, 5569471, 1126899, 916122, 8...   \n",
       "\n",
       "                                        recommended_100  \\\n",
       "0     [5569374, 940947, 878996, 1070820, 1029743, 88...   \n",
       "1     [5569230, 1029743, 8090521, 1106523, 8090537, ...   \n",
       "2     [1029743, 1106523, 5569230, 1075368, 844179, 9...   \n",
       "3     [986912, 878996, 965267, 1026118, 835098, 8966...   \n",
       "4     [1029743, 916122, 1126899, 866211, 1122358, 83...   \n",
       "...                                                 ...   \n",
       "2149  [844179, 1044078, 916122, 874972, 899624, 1281...   \n",
       "2150  [5569230, 5569471, 5585510, 854852, 1106523, 1...   \n",
       "2151  [1029743, 1070820, 916122, 1126899, 844179, 86...   \n",
       "2152  [1029743, 5569230, 8090521, 1106523, 1044078, ...   \n",
       "2153  [1029743, 1070820, 5569471, 1126899, 916122, 8...   \n",
       "\n",
       "                                        recommended_200  \\\n",
       "0     [5569374, 940947, 878996, 1070820, 1029743, 88...   \n",
       "1     [5569230, 1029743, 8090521, 1106523, 8090537, ...   \n",
       "2     [1029743, 1106523, 5569230, 1075368, 844179, 9...   \n",
       "3     [986912, 878996, 965267, 1026118, 835098, 8966...   \n",
       "4     [1029743, 916122, 1126899, 866211, 1122358, 83...   \n",
       "...                                                 ...   \n",
       "2149  [844179, 1044078, 916122, 874972, 899624, 1281...   \n",
       "2150  [5569230, 5569471, 5585510, 854852, 1106523, 1...   \n",
       "2151  [1029743, 1070820, 916122, 1126899, 844179, 86...   \n",
       "2152  [1029743, 5569230, 8090521, 1106523, 1044078, ...   \n",
       "2153  [1029743, 1070820, 5569471, 1126899, 916122, 8...   \n",
       "\n",
       "                                        recommended_500  \\\n",
       "0     [5569374, 940947, 878996, 1070820, 1029743, 88...   \n",
       "1     [5569230, 1029743, 8090521, 1106523, 8090537, ...   \n",
       "2     [1029743, 1106523, 5569230, 1075368, 844179, 9...   \n",
       "3     [986912, 878996, 965267, 1026118, 835098, 8966...   \n",
       "4     [1029743, 916122, 1126899, 866211, 1122358, 83...   \n",
       "...                                                 ...   \n",
       "2149  [844179, 1044078, 916122, 874972, 899624, 1281...   \n",
       "2150  [5569230, 5569471, 5585510, 854852, 1106523, 1...   \n",
       "2151  [1029743, 1070820, 916122, 1126899, 844179, 86...   \n",
       "2152  [1029743, 5569230, 8090521, 1106523, 1044078, ...   \n",
       "2153  [1029743, 1070820, 5569471, 1126899, 916122, 8...   \n",
       "\n",
       "                                       recommended_1500  \\\n",
       "0     [1029743, 1106523, 5569230, 916122, 844179, 10...   \n",
       "1     [1029743, 1106523, 5569230, 916122, 844179, 10...   \n",
       "2     [1029743, 1106523, 5569230, 916122, 844179, 10...   \n",
       "3     [1029743, 1106523, 5569230, 916122, 844179, 10...   \n",
       "4     [1029743, 1106523, 5569230, 916122, 844179, 10...   \n",
       "...                                                 ...   \n",
       "2149  [1029743, 1106523, 5569230, 916122, 844179, 10...   \n",
       "2150  [1029743, 1106523, 5569230, 916122, 844179, 10...   \n",
       "2151  [1029743, 1106523, 5569230, 916122, 844179, 10...   \n",
       "2152  [1029743, 1106523, 5569230, 916122, 844179, 10...   \n",
       "2153  [1029743, 1106523, 5569230, 916122, 844179, 10...   \n",
       "\n",
       "                                                    own  \n",
       "0     [1029743, 1106523, 5569230, 916122, 844179, 10...  \n",
       "1     [1029743, 1106523, 5569230, 916122, 844179, 10...  \n",
       "2     [1029743, 1106523, 5569230, 916122, 844179, 10...  \n",
       "3     [1029743, 1106523, 5569230, 916122, 844179, 10...  \n",
       "4     [1029743, 1106523, 5569230, 916122, 844179, 10...  \n",
       "...                                                 ...  \n",
       "2149  [1029743, 1106523, 5569230, 916122, 844179, 10...  \n",
       "2150  [1029743, 1106523, 5569230, 916122, 844179, 10...  \n",
       "2151  [1029743, 1106523, 5569230, 916122, 844179, 10...  \n",
       "2152  [1029743, 1106523, 5569230, 916122, 844179, 10...  \n",
       "2153  [1029743, 1106523, 5569230, 916122, 844179, 10...  \n",
       "\n",
       "[2154 rows x 9 columns]"
      ]
     },
     "execution_count": 17,
     "metadata": {},
     "output_type": "execute_result"
    }
   ],
   "source": [
    "result_lvl_1"
   ]
  },
  {
   "cell_type": "code",
   "execution_count": 18,
   "metadata": {},
   "outputs": [
    {
     "data": {
      "text/plain": [
       "0.04035332939253407"
      ]
     },
     "execution_count": 18,
     "metadata": {},
     "output_type": "execute_result"
    }
   ],
   "source": [
    "result_lvl_1.apply(lambda row: recall_at_k(row['recommended_20'], row['actual'],k=20), axis=1).mean()"
   ]
  },
  {
   "cell_type": "code",
   "execution_count": 19,
   "metadata": {},
   "outputs": [
    {
     "data": {
      "text/plain": [
       "0.030309691454100375"
      ]
     },
     "execution_count": 19,
     "metadata": {},
     "output_type": "execute_result"
    }
   ],
   "source": [
    "result_lvl_1.apply(lambda row: recall_at_k(row['own'], row['actual'],k=20), axis=1).mean()"
   ]
  },
  {
   "cell_type": "code",
   "execution_count": 20,
   "metadata": {},
   "outputs": [
    {
     "data": {
      "text/plain": [
       "0.06360705523834641"
      ]
     },
     "execution_count": 20,
     "metadata": {},
     "output_type": "execute_result"
    }
   ],
   "source": [
    "result_lvl_1.apply(lambda row: recall_at_k(row['recommended_50'], row['actual'],k=50), axis=1).mean()"
   ]
  },
  {
   "cell_type": "code",
   "execution_count": 21,
   "metadata": {},
   "outputs": [
    {
     "data": {
      "text/plain": [
       "0.04320315380335991"
      ]
     },
     "execution_count": 21,
     "metadata": {},
     "output_type": "execute_result"
    }
   ],
   "source": [
    "result_lvl_1.apply(lambda row: recall_at_k(row['own'], row['actual'],k=50), axis=1).mean()"
   ]
  },
  {
   "cell_type": "code",
   "execution_count": 22,
   "metadata": {},
   "outputs": [
    {
     "data": {
      "text/plain": [
       "0.08669449486394494"
      ]
     },
     "execution_count": 22,
     "metadata": {},
     "output_type": "execute_result"
    }
   ],
   "source": [
    "result_lvl_1.apply(lambda row: recall_at_k(row['recommended_100'], row['actual'],k=100), axis=1).mean()"
   ]
  },
  {
   "cell_type": "code",
   "execution_count": 23,
   "metadata": {},
   "outputs": [
    {
     "data": {
      "text/plain": [
       "0.06156821408022"
      ]
     },
     "execution_count": 23,
     "metadata": {},
     "output_type": "execute_result"
    }
   ],
   "source": [
    "result_lvl_1.apply(lambda row: recall_at_k(row['own'], row['actual'],k=100), axis=1).mean()"
   ]
  },
  {
   "cell_type": "code",
   "execution_count": 24,
   "metadata": {},
   "outputs": [
    {
     "data": {
      "text/plain": [
       "0.1159406543443711"
      ]
     },
     "execution_count": 24,
     "metadata": {},
     "output_type": "execute_result"
    }
   ],
   "source": [
    "result_lvl_1.apply(lambda row: recall_at_k(row['recommended_200'], row['actual'],k=200), axis=1).mean()"
   ]
  },
  {
   "cell_type": "code",
   "execution_count": 25,
   "metadata": {},
   "outputs": [
    {
     "data": {
      "text/plain": [
       "0.08940276042445733"
      ]
     },
     "execution_count": 25,
     "metadata": {},
     "output_type": "execute_result"
    }
   ],
   "source": [
    "result_lvl_1.apply(lambda row: recall_at_k(row['own'], row['actual'],k=200), axis=1).mean()"
   ]
  },
  {
   "cell_type": "code",
   "execution_count": 26,
   "metadata": {},
   "outputs": [
    {
     "data": {
      "text/plain": [
       "0.1625204055394276"
      ]
     },
     "execution_count": 26,
     "metadata": {},
     "output_type": "execute_result"
    }
   ],
   "source": [
    "result_lvl_1.apply(lambda row: recall_at_k(row['recommended_500'], row['actual'],k=500), axis=1).mean()"
   ]
  },
  {
   "cell_type": "code",
   "execution_count": 27,
   "metadata": {},
   "outputs": [
    {
     "data": {
      "text/plain": [
       "0.20963998757785057"
      ]
     },
     "execution_count": 27,
     "metadata": {},
     "output_type": "execute_result"
    }
   ],
   "source": [
    "result_lvl_1.apply(lambda row: recall_at_k(row['recommended_1500'], row['actual'],k=1500), axis=1).mean()"
   ]
  },
  {
   "cell_type": "code",
   "execution_count": 28,
   "metadata": {},
   "outputs": [
    {
     "data": {
      "text/plain": [
       "0.1318168244194135"
      ]
     },
     "execution_count": 28,
     "metadata": {},
     "output_type": "execute_result"
    }
   ],
   "source": [
    "result_lvl_1.apply(lambda row: recall_at_k(row['own'], row['actual'],k=500), axis=1).mean()"
   ]
  },
  {
   "cell_type": "markdown",
   "metadata": {},
   "source": [
    "## Дают ли own recommendtions + top-popular лучший recall?\n",
    "### - нет, от k = 50 до 500 лучше использовать ALS"
   ]
  },
  {
   "cell_type": "code",
   "execution_count": 29,
   "metadata": {},
   "outputs": [],
   "source": [
    "#\n",
    "num_k = ([20,50,100,200,500,1500])\n",
    "values_recall = [0.04,0.061, 0.088,0.115,0.161,0.21]"
   ]
  },
  {
   "cell_type": "code",
   "execution_count": 30,
   "metadata": {},
   "outputs": [
    {
     "data": {
      "image/png": "[encoded data removed]",
      "text/plain": [
       "<Figure size 432x288 with 1 Axes>"
      ]
     },
     "metadata": {
      "needs_background": "light"
     },
     "output_type": "display_data"
    }
   ],
   "source": [
    "plt.plot(values_recall,num_k)\n",
    "plt.show()"
   ]
  },
  {
   "cell_type": "markdown",
   "metadata": {},
   "source": [
    "### Лучше брать число кандидатов до К = 500 т.к. график функции нелинейно зависит от K, и брать слишком большие значения не имеет смысла+для больших К нужно будет больше вычислительной мощности"
   ]
  },
  {
   "cell_type": "markdown",
   "metadata": {
    "id": "bAHJu3Z5C4Ju"
   },
   "source": [
    "### Задание 2.\n",
    "\n",
    "Обучите модель 2-ого уровня, при этом:\n",
    "    - Добавьте минимум по 2 фичи для юзера, товара и пары юзер-товар\n",
    "    - Измерьте отдельно precision@5 модели 1-ого уровня и двухуровневой модели на data_val_lvl_2\n",
    "    - Вырос ли precision@5, map@5, ndcg@5 при использовании двухуровневой модели?"
   ]
  },
  {
   "cell_type": "code",
   "execution_count": 31,
   "metadata": {},
   "outputs": [],
   "source": [
    "users_lvl_2 = pd.DataFrame(data_train_lvl_2['user_id'].unique())\n",
    "users_lvl_2.columns = ['user_id']"
   ]
  },
  {
   "cell_type": "code",
   "execution_count": 32,
   "metadata": {},
   "outputs": [],
   "source": [
    "# Пока только warm start\n",
    "train_users = data_train_lvl_1['user_id'].unique()\n",
    "users_lvl_2 = users_lvl_2[users_lvl_2['user_id'].isin(train_users)]\n",
    "\n",
    "users_lvl_2['candidates'] = users_lvl_2['user_id'].apply(lambda x: recommender.get_als_recommendations(x, N=200))"
   ]
  },
  {
   "cell_type": "code",
   "execution_count": 33,
   "metadata": {},
   "outputs": [
    {
     "data": {
      "text/html": [
       "<div>\n",
       "<style scoped>\n",
       "    .dataframe tbody tr th:only-of-type {\n",
       "        vertical-align: middle;\n",
       "    }\n",
       "\n",
       "    .dataframe tbody tr th {\n",
       "        vertical-align: top;\n",
       "    }\n",
       "\n",
       "    .dataframe thead th {\n",
       "        text-align: right;\n",
       "    }\n",
       "</style>\n",
       "<table border=\"1\" class=\"dataframe\">\n",
       "  <thead>\n",
       "    <tr style=\"text-align: right;\">\n",
       "      <th></th>\n",
       "      <th>user_id</th>\n",
       "      <th>candidates</th>\n",
       "    </tr>\n",
       "  </thead>\n",
       "  <tbody>\n",
       "    <tr>\n",
       "      <th>0</th>\n",
       "      <td>2070</td>\n",
       "      <td>[899624, 1029743, 844179, 1044078, 965267, 983...</td>\n",
       "    </tr>\n",
       "    <tr>\n",
       "      <th>1</th>\n",
       "      <td>2021</td>\n",
       "      <td>[1029743, 1044078, 1106523, 844179, 5569230, 9...</td>\n",
       "    </tr>\n",
       "  </tbody>\n",
       "</table>\n",
       "</div>"
      ],
      "text/plain": [
       "   user_id                                         candidates\n",
       "0     2070  [899624, 1029743, 844179, 1044078, 965267, 983...\n",
       "1     2021  [1029743, 1044078, 1106523, 844179, 5569230, 9..."
      ]
     },
     "execution_count": 33,
     "metadata": {},
     "output_type": "execute_result"
    }
   ],
   "source": [
    "users_lvl_2.head(2)"
   ]
  },
  {
   "cell_type": "code",
   "execution_count": 34,
   "metadata": {},
   "outputs": [],
   "source": [
    "s = users_lvl_2.apply(lambda x: pd.Series(x['candidates']), axis=1).stack().reset_index(level=1, drop=True)\n",
    "s.name = 'item_id'"
   ]
  },
  {
   "cell_type": "code",
   "execution_count": 35,
   "metadata": {},
   "outputs": [
    {
     "data": {
      "text/plain": [
       "0        899624\n",
       "0       1029743\n",
       "0        844179\n",
       "0       1044078\n",
       "0        965267\n",
       "         ...   \n",
       "2153    9527159\n",
       "2153    1004945\n",
       "2153     916990\n",
       "2153    5591103\n",
       "2153    1026118\n",
       "Name: item_id, Length: 430200, dtype: int64"
      ]
     },
     "execution_count": 35,
     "metadata": {},
     "output_type": "execute_result"
    }
   ],
   "source": [
    "s"
   ]
  },
  {
   "cell_type": "code",
   "execution_count": 36,
   "metadata": {},
   "outputs": [
    {
     "data": {
      "text/html": [
       "<div>\n",
       "<style scoped>\n",
       "    .dataframe tbody tr th:only-of-type {\n",
       "        vertical-align: middle;\n",
       "    }\n",
       "\n",
       "    .dataframe tbody tr th {\n",
       "        vertical-align: top;\n",
       "    }\n",
       "\n",
       "    .dataframe thead th {\n",
       "        text-align: right;\n",
       "    }\n",
       "</style>\n",
       "<table border=\"1\" class=\"dataframe\">\n",
       "  <thead>\n",
       "    <tr style=\"text-align: right;\">\n",
       "      <th></th>\n",
       "      <th>user_id</th>\n",
       "      <th>item_id</th>\n",
       "      <th>flag</th>\n",
       "    </tr>\n",
       "  </thead>\n",
       "  <tbody>\n",
       "    <tr>\n",
       "      <th>0</th>\n",
       "      <td>2070</td>\n",
       "      <td>899624</td>\n",
       "      <td>1</td>\n",
       "    </tr>\n",
       "    <tr>\n",
       "      <th>0</th>\n",
       "      <td>2070</td>\n",
       "      <td>1029743</td>\n",
       "      <td>1</td>\n",
       "    </tr>\n",
       "    <tr>\n",
       "      <th>0</th>\n",
       "      <td>2070</td>\n",
       "      <td>844179</td>\n",
       "      <td>1</td>\n",
       "    </tr>\n",
       "    <tr>\n",
       "      <th>0</th>\n",
       "      <td>2070</td>\n",
       "      <td>1044078</td>\n",
       "      <td>1</td>\n",
       "    </tr>\n",
       "  </tbody>\n",
       "</table>\n",
       "</div>"
      ],
      "text/plain": [
       "   user_id  item_id  flag\n",
       "0     2070   899624     1\n",
       "0     2070  1029743     1\n",
       "0     2070   844179     1\n",
       "0     2070  1044078     1"
      ]
     },
     "execution_count": 36,
     "metadata": {},
     "output_type": "execute_result"
    }
   ],
   "source": [
    "users_lvl_2 = users_lvl_2.drop('candidates', axis=1).join(s)\n",
    "users_lvl_2['flag'] = 1\n",
    "\n",
    "users_lvl_2.head(4)"
   ]
  },
  {
   "cell_type": "code",
   "execution_count": 37,
   "metadata": {},
   "outputs": [
    {
     "data": {
      "text/plain": [
       "2151"
      ]
     },
     "execution_count": 37,
     "metadata": {},
     "output_type": "execute_result"
    }
   ],
   "source": [
    "users_lvl_2['user_id'].nunique()"
   ]
  },
  {
   "cell_type": "code",
   "execution_count": 42,
   "metadata": {
    "id": "XZQcrch7C4Ju"
   },
   "outputs": [
    {
     "data": {
      "text/plain": [
       "430200"
      ]
     },
     "execution_count": 42,
     "metadata": {},
     "output_type": "execute_result"
    }
   ],
   "source": [
    "users_lvl_2.shape[0]"
   ]
  },
  {
   "cell_type": "code",
   "execution_count": 132,
   "metadata": {},
   "outputs": [],
   "source": [
    "targets_lvl_2 = data_train_lvl_2[['user_id', 'item_id']].copy()\n",
    "targets_lvl_2['target'] = 1  # тут только покупки \n",
    "\n",
    "targets_lvl_2 = users_lvl_2.merge(targets_lvl_2, on=['user_id', 'item_id'], how='left')\n",
    "\n",
    "targets_lvl_2['target'].fillna(0, inplace= True)\n",
    "targets_lvl_2.drop('flag', axis=1, inplace=True)"
   ]
  },
  {
   "cell_type": "code",
   "execution_count": 139,
   "metadata": {},
   "outputs": [
    {
     "data": {
      "text/plain": [
       "0         2070\n",
       "1         2070\n",
       "2         2070\n",
       "3         2070\n",
       "4         2070\n",
       "          ... \n",
       "436996    1745\n",
       "436997    1745\n",
       "436998    1745\n",
       "436999    1745\n",
       "437000    1745\n",
       "Name: user_id, Length: 437001, dtype: int64"
      ]
     },
     "execution_count": 139,
     "metadata": {},
     "output_type": "execute_result"
    }
   ],
   "source": [
    "targets_lvl_2['user_id']"
   ]
  },
  {
   "cell_type": "markdown",
   "metadata": {},
   "source": [
    "#test sparsity"
   ]
  },
  {
   "cell_type": "code",
   "execution_count": 44,
   "metadata": {},
   "outputs": [
    {
     "data": {
      "text/plain": [
       "0.05186029322587363"
      ]
     },
     "execution_count": 44,
     "metadata": {},
     "output_type": "execute_result"
    }
   ],
   "source": [
    "targets_lvl_2['target'].mean()"
   ]
  },
  {
   "cell_type": "code",
   "execution_count": 45,
   "metadata": {},
   "outputs": [
    {
     "data": {
      "text/html": [
       "<div>\n",
       "<style scoped>\n",
       "    .dataframe tbody tr th:only-of-type {\n",
       "        vertical-align: middle;\n",
       "    }\n",
       "\n",
       "    .dataframe tbody tr th {\n",
       "        vertical-align: top;\n",
       "    }\n",
       "\n",
       "    .dataframe thead th {\n",
       "        text-align: right;\n",
       "    }\n",
       "</style>\n",
       "<table border=\"1\" class=\"dataframe\">\n",
       "  <thead>\n",
       "    <tr style=\"text-align: right;\">\n",
       "      <th></th>\n",
       "      <th>item_id</th>\n",
       "      <th>manufacturer</th>\n",
       "      <th>department</th>\n",
       "      <th>brand</th>\n",
       "      <th>commodity_desc</th>\n",
       "      <th>sub_commodity_desc</th>\n",
       "      <th>curr_size_of_product</th>\n",
       "    </tr>\n",
       "  </thead>\n",
       "  <tbody>\n",
       "    <tr>\n",
       "      <th>0</th>\n",
       "      <td>25671</td>\n",
       "      <td>2</td>\n",
       "      <td>GROCERY</td>\n",
       "      <td>National</td>\n",
       "      <td>FRZN ICE</td>\n",
       "      <td>ICE - CRUSHED/CUBED</td>\n",
       "      <td>22 LB</td>\n",
       "    </tr>\n",
       "    <tr>\n",
       "      <th>1</th>\n",
       "      <td>26081</td>\n",
       "      <td>2</td>\n",
       "      <td>MISC. TRANS.</td>\n",
       "      <td>National</td>\n",
       "      <td>NO COMMODITY DESCRIPTION</td>\n",
       "      <td>NO SUBCOMMODITY DESCRIPTION</td>\n",
       "      <td></td>\n",
       "    </tr>\n",
       "  </tbody>\n",
       "</table>\n",
       "</div>"
      ],
      "text/plain": [
       "   item_id  manufacturer    department     brand            commodity_desc  \\\n",
       "0    25671             2       GROCERY  National                  FRZN ICE   \n",
       "1    26081             2  MISC. TRANS.  National  NO COMMODITY DESCRIPTION   \n",
       "\n",
       "            sub_commodity_desc curr_size_of_product  \n",
       "0          ICE - CRUSHED/CUBED                22 LB  \n",
       "1  NO SUBCOMMODITY DESCRIPTION                       "
      ]
     },
     "execution_count": 45,
     "metadata": {},
     "output_type": "execute_result"
    }
   ],
   "source": [
    "item_features.head(2)"
   ]
  },
  {
   "cell_type": "code",
   "execution_count": 46,
   "metadata": {},
   "outputs": [
    {
     "data": {
      "text/html": [
       "<div>\n",
       "<style scoped>\n",
       "    .dataframe tbody tr th:only-of-type {\n",
       "        vertical-align: middle;\n",
       "    }\n",
       "\n",
       "    .dataframe tbody tr th {\n",
       "        vertical-align: top;\n",
       "    }\n",
       "\n",
       "    .dataframe thead th {\n",
       "        text-align: right;\n",
       "    }\n",
       "</style>\n",
       "<table border=\"1\" class=\"dataframe\">\n",
       "  <thead>\n",
       "    <tr style=\"text-align: right;\">\n",
       "      <th></th>\n",
       "      <th>age_desc</th>\n",
       "      <th>marital_status_code</th>\n",
       "      <th>income_desc</th>\n",
       "      <th>homeowner_desc</th>\n",
       "      <th>hh_comp_desc</th>\n",
       "      <th>household_size_desc</th>\n",
       "      <th>kid_category_desc</th>\n",
       "      <th>user_id</th>\n",
       "    </tr>\n",
       "  </thead>\n",
       "  <tbody>\n",
       "    <tr>\n",
       "      <th>0</th>\n",
       "      <td>65+</td>\n",
       "      <td>A</td>\n",
       "      <td>35-49K</td>\n",
       "      <td>Homeowner</td>\n",
       "      <td>2 Adults No Kids</td>\n",
       "      <td>2</td>\n",
       "      <td>None/Unknown</td>\n",
       "      <td>1</td>\n",
       "    </tr>\n",
       "    <tr>\n",
       "      <th>1</th>\n",
       "      <td>45-54</td>\n",
       "      <td>A</td>\n",
       "      <td>50-74K</td>\n",
       "      <td>Homeowner</td>\n",
       "      <td>2 Adults No Kids</td>\n",
       "      <td>2</td>\n",
       "      <td>None/Unknown</td>\n",
       "      <td>7</td>\n",
       "    </tr>\n",
       "  </tbody>\n",
       "</table>\n",
       "</div>"
      ],
      "text/plain": [
       "  age_desc marital_status_code income_desc homeowner_desc      hh_comp_desc  \\\n",
       "0      65+                   A      35-49K      Homeowner  2 Adults No Kids   \n",
       "1    45-54                   A      50-74K      Homeowner  2 Adults No Kids   \n",
       "\n",
       "  household_size_desc kid_category_desc  user_id  \n",
       "0                   2      None/Unknown        1  \n",
       "1                   2      None/Unknown        7  "
      ]
     },
     "execution_count": 46,
     "metadata": {},
     "output_type": "execute_result"
    }
   ],
   "source": [
    "user_features.head(2)"
   ]
  },
  {
   "cell_type": "code",
   "execution_count": 163,
   "metadata": {},
   "outputs": [
    {
     "data": {
      "text/html": [
       "<div>\n",
       "<style scoped>\n",
       "    .dataframe tbody tr th:only-of-type {\n",
       "        vertical-align: middle;\n",
       "    }\n",
       "\n",
       "    .dataframe tbody tr th {\n",
       "        vertical-align: top;\n",
       "    }\n",
       "\n",
       "    .dataframe thead th {\n",
       "        text-align: right;\n",
       "    }\n",
       "</style>\n",
       "<table border=\"1\" class=\"dataframe\">\n",
       "  <thead>\n",
       "    <tr style=\"text-align: right;\">\n",
       "      <th></th>\n",
       "      <th>user_id</th>\n",
       "      <th>item_id</th>\n",
       "      <th>target</th>\n",
       "      <th>manufacturer</th>\n",
       "      <th>department</th>\n",
       "      <th>brand</th>\n",
       "      <th>commodity_desc</th>\n",
       "      <th>sub_commodity_desc</th>\n",
       "      <th>curr_size_of_product</th>\n",
       "      <th>age_desc</th>\n",
       "      <th>marital_status_code</th>\n",
       "      <th>income_desc</th>\n",
       "      <th>homeowner_desc</th>\n",
       "      <th>hh_comp_desc</th>\n",
       "      <th>household_size_desc</th>\n",
       "      <th>kid_category_desc</th>\n",
       "    </tr>\n",
       "  </thead>\n",
       "  <tbody>\n",
       "    <tr>\n",
       "      <th>0</th>\n",
       "      <td>2070</td>\n",
       "      <td>899624</td>\n",
       "      <td>1.0</td>\n",
       "      <td>69</td>\n",
       "      <td>PRODUCE</td>\n",
       "      <td>Private</td>\n",
       "      <td>POTATOES</td>\n",
       "      <td>POTATOES RUSSET (BULK&amp;BAG)</td>\n",
       "      <td>10 LB</td>\n",
       "      <td>45-54</td>\n",
       "      <td>U</td>\n",
       "      <td>50-74K</td>\n",
       "      <td>Unknown</td>\n",
       "      <td>Unknown</td>\n",
       "      <td>1</td>\n",
       "      <td>None/Unknown</td>\n",
       "    </tr>\n",
       "    <tr>\n",
       "      <th>1</th>\n",
       "      <td>2070</td>\n",
       "      <td>1029743</td>\n",
       "      <td>0.0</td>\n",
       "      <td>69</td>\n",
       "      <td>GROCERY</td>\n",
       "      <td>Private</td>\n",
       "      <td>FLUID MILK PRODUCTS</td>\n",
       "      <td>FLUID MILK WHITE ONLY</td>\n",
       "      <td>1 GA</td>\n",
       "      <td>45-54</td>\n",
       "      <td>U</td>\n",
       "      <td>50-74K</td>\n",
       "      <td>Unknown</td>\n",
       "      <td>Unknown</td>\n",
       "      <td>1</td>\n",
       "      <td>None/Unknown</td>\n",
       "    </tr>\n",
       "  </tbody>\n",
       "</table>\n",
       "</div>"
      ],
      "text/plain": [
       "   user_id  item_id  target  manufacturer department    brand  \\\n",
       "0     2070   899624     1.0            69    PRODUCE  Private   \n",
       "1     2070  1029743     0.0            69    GROCERY  Private   \n",
       "\n",
       "        commodity_desc          sub_commodity_desc curr_size_of_product  \\\n",
       "0             POTATOES  POTATOES RUSSET (BULK&BAG)                10 LB   \n",
       "1  FLUID MILK PRODUCTS       FLUID MILK WHITE ONLY                 1 GA   \n",
       "\n",
       "  age_desc marital_status_code income_desc homeowner_desc hh_comp_desc  \\\n",
       "0    45-54                   U      50-74K        Unknown      Unknown   \n",
       "1    45-54                   U      50-74K        Unknown      Unknown   \n",
       "\n",
       "  household_size_desc kid_category_desc  \n",
       "0                   1      None/Unknown  \n",
       "1                   1      None/Unknown  "
      ]
     },
     "execution_count": 163,
     "metadata": {},
     "output_type": "execute_result"
    }
   ],
   "source": [
    "targets_lvl_2 = targets_lvl_2.merge(item_features, on='item_id', how='left')\n",
    "targets_lvl_2 = targets_lvl_2.merge(user_features, on='user_id', how='left')\n",
    "\n",
    "targets_lvl_2.head(2)"
   ]
  },
  {
   "cell_type": "code",
   "execution_count": 193,
   "metadata": {},
   "outputs": [],
   "source": [
    "X_train = targets_lvl_2.drop('target', axis=1)\n",
    "y_train = targets_lvl_2[['target']]"
   ]
  },
  {
   "cell_type": "code",
   "execution_count": 194,
   "metadata": {},
   "outputs": [
    {
     "data": {
      "text/plain": [
       "['manufacturer',\n",
       " 'department',\n",
       " 'brand',\n",
       " 'commodity_desc',\n",
       " 'sub_commodity_desc',\n",
       " 'curr_size_of_product',\n",
       " 'age_desc',\n",
       " 'marital_status_code',\n",
       " 'income_desc',\n",
       " 'homeowner_desc',\n",
       " 'hh_comp_desc',\n",
       " 'household_size_desc',\n",
       " 'kid_category_desc']"
      ]
     },
     "execution_count": 194,
     "metadata": {},
     "output_type": "execute_result"
    }
   ],
   "source": [
    "cat_feats = X_train.columns[2:].tolist()\n",
    "X_train[cat_feats] = X_train[cat_feats].astype('category')\n",
    "\n",
    "cat_feats"
   ]
  },
  {
   "cell_type": "code",
   "execution_count": 208,
   "metadata": {},
   "outputs": [
    {
     "data": {
      "text/html": [
       "<div>\n",
       "<style scoped>\n",
       "    .dataframe tbody tr th:only-of-type {\n",
       "        vertical-align: middle;\n",
       "    }\n",
       "\n",
       "    .dataframe tbody tr th {\n",
       "        vertical-align: top;\n",
       "    }\n",
       "\n",
       "    .dataframe thead th {\n",
       "        text-align: right;\n",
       "    }\n",
       "</style>\n",
       "<table border=\"1\" class=\"dataframe\">\n",
       "  <thead>\n",
       "    <tr style=\"text-align: right;\">\n",
       "      <th></th>\n",
       "      <th>user_id</th>\n",
       "      <th>item_id</th>\n",
       "      <th>manufacturer</th>\n",
       "      <th>department</th>\n",
       "      <th>brand</th>\n",
       "      <th>commodity_desc</th>\n",
       "      <th>sub_commodity_desc</th>\n",
       "      <th>curr_size_of_product</th>\n",
       "      <th>age_desc</th>\n",
       "      <th>marital_status_code</th>\n",
       "      <th>income_desc</th>\n",
       "      <th>homeowner_desc</th>\n",
       "      <th>hh_comp_desc</th>\n",
       "      <th>household_size_desc</th>\n",
       "      <th>kid_category_desc</th>\n",
       "    </tr>\n",
       "  </thead>\n",
       "  <tbody>\n",
       "    <tr>\n",
       "      <th>0</th>\n",
       "      <td>1</td>\n",
       "      <td>211</td>\n",
       "      <td>211</td>\n",
       "      <td>211</td>\n",
       "      <td>211</td>\n",
       "      <td>211</td>\n",
       "      <td>211</td>\n",
       "      <td>211</td>\n",
       "      <td>211</td>\n",
       "      <td>211</td>\n",
       "      <td>211</td>\n",
       "      <td>211</td>\n",
       "      <td>211</td>\n",
       "      <td>211</td>\n",
       "      <td>211</td>\n",
       "    </tr>\n",
       "    <tr>\n",
       "      <th>1</th>\n",
       "      <td>2</td>\n",
       "      <td>200</td>\n",
       "      <td>200</td>\n",
       "      <td>200</td>\n",
       "      <td>200</td>\n",
       "      <td>200</td>\n",
       "      <td>200</td>\n",
       "      <td>200</td>\n",
       "      <td>0</td>\n",
       "      <td>0</td>\n",
       "      <td>0</td>\n",
       "      <td>0</td>\n",
       "      <td>0</td>\n",
       "      <td>0</td>\n",
       "      <td>0</td>\n",
       "    </tr>\n",
       "    <tr>\n",
       "      <th>2</th>\n",
       "      <td>4</td>\n",
       "      <td>201</td>\n",
       "      <td>201</td>\n",
       "      <td>201</td>\n",
       "      <td>201</td>\n",
       "      <td>201</td>\n",
       "      <td>201</td>\n",
       "      <td>201</td>\n",
       "      <td>0</td>\n",
       "      <td>0</td>\n",
       "      <td>0</td>\n",
       "      <td>0</td>\n",
       "      <td>0</td>\n",
       "      <td>0</td>\n",
       "      <td>0</td>\n",
       "    </tr>\n",
       "    <tr>\n",
       "      <th>3</th>\n",
       "      <td>6</td>\n",
       "      <td>206</td>\n",
       "      <td>206</td>\n",
       "      <td>206</td>\n",
       "      <td>206</td>\n",
       "      <td>206</td>\n",
       "      <td>206</td>\n",
       "      <td>206</td>\n",
       "      <td>0</td>\n",
       "      <td>0</td>\n",
       "      <td>0</td>\n",
       "      <td>0</td>\n",
       "      <td>0</td>\n",
       "      <td>0</td>\n",
       "      <td>0</td>\n",
       "    </tr>\n",
       "    <tr>\n",
       "      <th>4</th>\n",
       "      <td>7</td>\n",
       "      <td>201</td>\n",
       "      <td>201</td>\n",
       "      <td>201</td>\n",
       "      <td>201</td>\n",
       "      <td>201</td>\n",
       "      <td>201</td>\n",
       "      <td>201</td>\n",
       "      <td>201</td>\n",
       "      <td>201</td>\n",
       "      <td>201</td>\n",
       "      <td>201</td>\n",
       "      <td>201</td>\n",
       "      <td>201</td>\n",
       "      <td>201</td>\n",
       "    </tr>\n",
       "    <tr>\n",
       "      <th>...</th>\n",
       "      <td>...</td>\n",
       "      <td>...</td>\n",
       "      <td>...</td>\n",
       "      <td>...</td>\n",
       "      <td>...</td>\n",
       "      <td>...</td>\n",
       "      <td>...</td>\n",
       "      <td>...</td>\n",
       "      <td>...</td>\n",
       "      <td>...</td>\n",
       "      <td>...</td>\n",
       "      <td>...</td>\n",
       "      <td>...</td>\n",
       "      <td>...</td>\n",
       "      <td>...</td>\n",
       "    </tr>\n",
       "    <tr>\n",
       "      <th>2146</th>\n",
       "      <td>2496</td>\n",
       "      <td>206</td>\n",
       "      <td>206</td>\n",
       "      <td>206</td>\n",
       "      <td>206</td>\n",
       "      <td>206</td>\n",
       "      <td>206</td>\n",
       "      <td>206</td>\n",
       "      <td>206</td>\n",
       "      <td>206</td>\n",
       "      <td>206</td>\n",
       "      <td>206</td>\n",
       "      <td>206</td>\n",
       "      <td>206</td>\n",
       "      <td>206</td>\n",
       "    </tr>\n",
       "    <tr>\n",
       "      <th>2147</th>\n",
       "      <td>2497</td>\n",
       "      <td>202</td>\n",
       "      <td>202</td>\n",
       "      <td>202</td>\n",
       "      <td>202</td>\n",
       "      <td>202</td>\n",
       "      <td>202</td>\n",
       "      <td>202</td>\n",
       "      <td>202</td>\n",
       "      <td>202</td>\n",
       "      <td>202</td>\n",
       "      <td>202</td>\n",
       "      <td>202</td>\n",
       "      <td>202</td>\n",
       "      <td>202</td>\n",
       "    </tr>\n",
       "    <tr>\n",
       "      <th>2148</th>\n",
       "      <td>2498</td>\n",
       "      <td>202</td>\n",
       "      <td>202</td>\n",
       "      <td>202</td>\n",
       "      <td>202</td>\n",
       "      <td>202</td>\n",
       "      <td>202</td>\n",
       "      <td>202</td>\n",
       "      <td>202</td>\n",
       "      <td>202</td>\n",
       "      <td>202</td>\n",
       "      <td>202</td>\n",
       "      <td>202</td>\n",
       "      <td>202</td>\n",
       "      <td>202</td>\n",
       "    </tr>\n",
       "    <tr>\n",
       "      <th>2149</th>\n",
       "      <td>2499</td>\n",
       "      <td>204</td>\n",
       "      <td>204</td>\n",
       "      <td>204</td>\n",
       "      <td>204</td>\n",
       "      <td>204</td>\n",
       "      <td>204</td>\n",
       "      <td>204</td>\n",
       "      <td>204</td>\n",
       "      <td>204</td>\n",
       "      <td>204</td>\n",
       "      <td>204</td>\n",
       "      <td>204</td>\n",
       "      <td>204</td>\n",
       "      <td>204</td>\n",
       "    </tr>\n",
       "    <tr>\n",
       "      <th>2150</th>\n",
       "      <td>2500</td>\n",
       "      <td>203</td>\n",
       "      <td>203</td>\n",
       "      <td>203</td>\n",
       "      <td>203</td>\n",
       "      <td>203</td>\n",
       "      <td>203</td>\n",
       "      <td>203</td>\n",
       "      <td>0</td>\n",
       "      <td>0</td>\n",
       "      <td>0</td>\n",
       "      <td>0</td>\n",
       "      <td>0</td>\n",
       "      <td>0</td>\n",
       "      <td>0</td>\n",
       "    </tr>\n",
       "  </tbody>\n",
       "</table>\n",
       "<p>2151 rows × 15 columns</p>\n",
       "</div>"
      ],
      "text/plain": [
       "      user_id  item_id  manufacturer  department  brand  commodity_desc  \\\n",
       "0           1      211           211         211    211             211   \n",
       "1           2      200           200         200    200             200   \n",
       "2           4      201           201         201    201             201   \n",
       "3           6      206           206         206    206             206   \n",
       "4           7      201           201         201    201             201   \n",
       "...       ...      ...           ...         ...    ...             ...   \n",
       "2146     2496      206           206         206    206             206   \n",
       "2147     2497      202           202         202    202             202   \n",
       "2148     2498      202           202         202    202             202   \n",
       "2149     2499      204           204         204    204             204   \n",
       "2150     2500      203           203         203    203             203   \n",
       "\n",
       "      sub_commodity_desc  curr_size_of_product  age_desc  marital_status_code  \\\n",
       "0                    211                   211       211                  211   \n",
       "1                    200                   200         0                    0   \n",
       "2                    201                   201         0                    0   \n",
       "3                    206                   206         0                    0   \n",
       "4                    201                   201       201                  201   \n",
       "...                  ...                   ...       ...                  ...   \n",
       "2146                 206                   206       206                  206   \n",
       "2147                 202                   202       202                  202   \n",
       "2148                 202                   202       202                  202   \n",
       "2149                 204                   204       204                  204   \n",
       "2150                 203                   203         0                    0   \n",
       "\n",
       "      income_desc  homeowner_desc  hh_comp_desc  household_size_desc  \\\n",
       "0             211             211           211                  211   \n",
       "1               0               0             0                    0   \n",
       "2               0               0             0                    0   \n",
       "3               0               0             0                    0   \n",
       "4             201             201           201                  201   \n",
       "...           ...             ...           ...                  ...   \n",
       "2146          206             206           206                  206   \n",
       "2147          202             202           202                  202   \n",
       "2148          202             202           202                  202   \n",
       "2149          204             204           204                  204   \n",
       "2150            0               0             0                    0   \n",
       "\n",
       "      kid_category_desc  \n",
       "0                   211  \n",
       "1                     0  \n",
       "2                     0  \n",
       "3                     0  \n",
       "4                   201  \n",
       "...                 ...  \n",
       "2146                206  \n",
       "2147                202  \n",
       "2148                202  \n",
       "2149                204  \n",
       "2150                  0  \n",
       "\n",
       "[2151 rows x 15 columns]"
      ]
     },
     "execution_count": 208,
     "metadata": {},
     "output_type": "execute_result"
    }
   ],
   "source": [
    "X_train.groupby('user_id').count().reset_index().X_train[user_id]"
   ]
  },
  {
   "cell_type": "code",
   "execution_count": 190,
   "metadata": {},
   "outputs": [
    {
     "data": {
      "text/html": [
       "<div>\n",
       "<style scoped>\n",
       "    .dataframe tbody tr th:only-of-type {\n",
       "        vertical-align: middle;\n",
       "    }\n",
       "\n",
       "    .dataframe tbody tr th {\n",
       "        vertical-align: top;\n",
       "    }\n",
       "\n",
       "    .dataframe thead th {\n",
       "        text-align: right;\n",
       "    }\n",
       "</style>\n",
       "<table border=\"1\" class=\"dataframe\">\n",
       "  <thead>\n",
       "    <tr style=\"text-align: right;\">\n",
       "      <th></th>\n",
       "      <th>user_id</th>\n",
       "      <th>item_id_left</th>\n",
       "      <th>manufacturer_left</th>\n",
       "      <th>department_left</th>\n",
       "      <th>brand_left</th>\n",
       "      <th>commodity_desc_left</th>\n",
       "      <th>sub_commodity_desc_left</th>\n",
       "      <th>curr_size_of_product_left</th>\n",
       "      <th>age_desc_left</th>\n",
       "      <th>marital_status_code_left</th>\n",
       "      <th>...</th>\n",
       "      <th>commodity_desc_right</th>\n",
       "      <th>sub_commodity_desc_right</th>\n",
       "      <th>curr_size_of_product_right</th>\n",
       "      <th>age_desc_right</th>\n",
       "      <th>marital_status_code_right</th>\n",
       "      <th>income_desc_right</th>\n",
       "      <th>homeowner_desc_right</th>\n",
       "      <th>hh_comp_desc_right</th>\n",
       "      <th>household_size_desc_right</th>\n",
       "      <th>kid_category_desc_right</th>\n",
       "    </tr>\n",
       "  </thead>\n",
       "  <tbody>\n",
       "    <tr>\n",
       "      <th>0</th>\n",
       "      <td>2070</td>\n",
       "      <td>899624</td>\n",
       "      <td>69</td>\n",
       "      <td>PRODUCE</td>\n",
       "      <td>Private</td>\n",
       "      <td>POTATOES</td>\n",
       "      <td>POTATOES RUSSET (BULK&amp;BAG)</td>\n",
       "      <td>10 LB</td>\n",
       "      <td>45-54</td>\n",
       "      <td>U</td>\n",
       "      <td>...</td>\n",
       "      <td>200</td>\n",
       "      <td>200</td>\n",
       "      <td>200</td>\n",
       "      <td>200</td>\n",
       "      <td>200</td>\n",
       "      <td>200</td>\n",
       "      <td>200</td>\n",
       "      <td>200</td>\n",
       "      <td>200</td>\n",
       "      <td>200</td>\n",
       "    </tr>\n",
       "    <tr>\n",
       "      <th>1</th>\n",
       "      <td>2070</td>\n",
       "      <td>1029743</td>\n",
       "      <td>69</td>\n",
       "      <td>GROCERY</td>\n",
       "      <td>Private</td>\n",
       "      <td>FLUID MILK PRODUCTS</td>\n",
       "      <td>FLUID MILK WHITE ONLY</td>\n",
       "      <td>1 GA</td>\n",
       "      <td>45-54</td>\n",
       "      <td>U</td>\n",
       "      <td>...</td>\n",
       "      <td>200</td>\n",
       "      <td>200</td>\n",
       "      <td>200</td>\n",
       "      <td>200</td>\n",
       "      <td>200</td>\n",
       "      <td>200</td>\n",
       "      <td>200</td>\n",
       "      <td>200</td>\n",
       "      <td>200</td>\n",
       "      <td>200</td>\n",
       "    </tr>\n",
       "    <tr>\n",
       "      <th>2</th>\n",
       "      <td>2070</td>\n",
       "      <td>844179</td>\n",
       "      <td>2852</td>\n",
       "      <td>MEAT</td>\n",
       "      <td>National</td>\n",
       "      <td>BEEF</td>\n",
       "      <td>PRIMAL</td>\n",
       "      <td></td>\n",
       "      <td>45-54</td>\n",
       "      <td>U</td>\n",
       "      <td>...</td>\n",
       "      <td>200</td>\n",
       "      <td>200</td>\n",
       "      <td>200</td>\n",
       "      <td>200</td>\n",
       "      <td>200</td>\n",
       "      <td>200</td>\n",
       "      <td>200</td>\n",
       "      <td>200</td>\n",
       "      <td>200</td>\n",
       "      <td>200</td>\n",
       "    </tr>\n",
       "    <tr>\n",
       "      <th>3</th>\n",
       "      <td>2070</td>\n",
       "      <td>1044078</td>\n",
       "      <td>2845</td>\n",
       "      <td>MEAT</td>\n",
       "      <td>National</td>\n",
       "      <td>BEEF</td>\n",
       "      <td>LEAN</td>\n",
       "      <td></td>\n",
       "      <td>45-54</td>\n",
       "      <td>U</td>\n",
       "      <td>...</td>\n",
       "      <td>200</td>\n",
       "      <td>200</td>\n",
       "      <td>200</td>\n",
       "      <td>200</td>\n",
       "      <td>200</td>\n",
       "      <td>200</td>\n",
       "      <td>200</td>\n",
       "      <td>200</td>\n",
       "      <td>200</td>\n",
       "      <td>200</td>\n",
       "    </tr>\n",
       "    <tr>\n",
       "      <th>4</th>\n",
       "      <td>2070</td>\n",
       "      <td>965267</td>\n",
       "      <td>2</td>\n",
       "      <td>PRODUCE</td>\n",
       "      <td>National</td>\n",
       "      <td>MELONS</td>\n",
       "      <td>WATERMELON SEEDLESS WHOLE</td>\n",
       "      <td>40 CT</td>\n",
       "      <td>45-54</td>\n",
       "      <td>U</td>\n",
       "      <td>...</td>\n",
       "      <td>200</td>\n",
       "      <td>200</td>\n",
       "      <td>200</td>\n",
       "      <td>200</td>\n",
       "      <td>200</td>\n",
       "      <td>200</td>\n",
       "      <td>200</td>\n",
       "      <td>200</td>\n",
       "      <td>200</td>\n",
       "      <td>200</td>\n",
       "    </tr>\n",
       "    <tr>\n",
       "      <th>...</th>\n",
       "      <td>...</td>\n",
       "      <td>...</td>\n",
       "      <td>...</td>\n",
       "      <td>...</td>\n",
       "      <td>...</td>\n",
       "      <td>...</td>\n",
       "      <td>...</td>\n",
       "      <td>...</td>\n",
       "      <td>...</td>\n",
       "      <td>...</td>\n",
       "      <td>...</td>\n",
       "      <td>...</td>\n",
       "      <td>...</td>\n",
       "      <td>...</td>\n",
       "      <td>...</td>\n",
       "      <td>...</td>\n",
       "      <td>...</td>\n",
       "      <td>...</td>\n",
       "      <td>...</td>\n",
       "      <td>...</td>\n",
       "      <td>...</td>\n",
       "    </tr>\n",
       "    <tr>\n",
       "      <th>436996</th>\n",
       "      <td>1745</td>\n",
       "      <td>9527159</td>\n",
       "      <td>544</td>\n",
       "      <td>GROCERY</td>\n",
       "      <td>National</td>\n",
       "      <td>BAG SNACKS</td>\n",
       "      <td>MULT PK BAG SNACKS</td>\n",
       "      <td>24 OZ</td>\n",
       "      <td>45-54</td>\n",
       "      <td>A</td>\n",
       "      <td>...</td>\n",
       "      <td>200</td>\n",
       "      <td>200</td>\n",
       "      <td>200</td>\n",
       "      <td>200</td>\n",
       "      <td>200</td>\n",
       "      <td>200</td>\n",
       "      <td>200</td>\n",
       "      <td>200</td>\n",
       "      <td>200</td>\n",
       "      <td>200</td>\n",
       "    </tr>\n",
       "    <tr>\n",
       "      <th>436997</th>\n",
       "      <td>1745</td>\n",
       "      <td>1004945</td>\n",
       "      <td>794</td>\n",
       "      <td>GROCERY</td>\n",
       "      <td>National</td>\n",
       "      <td>COLD CEREAL</td>\n",
       "      <td>KIDS CEREAL</td>\n",
       "      <td>17.2 OZ</td>\n",
       "      <td>45-54</td>\n",
       "      <td>A</td>\n",
       "      <td>...</td>\n",
       "      <td>200</td>\n",
       "      <td>200</td>\n",
       "      <td>200</td>\n",
       "      <td>200</td>\n",
       "      <td>200</td>\n",
       "      <td>200</td>\n",
       "      <td>200</td>\n",
       "      <td>200</td>\n",
       "      <td>200</td>\n",
       "      <td>200</td>\n",
       "    </tr>\n",
       "    <tr>\n",
       "      <th>436998</th>\n",
       "      <td>1745</td>\n",
       "      <td>916990</td>\n",
       "      <td>103</td>\n",
       "      <td>GROCERY</td>\n",
       "      <td>National</td>\n",
       "      <td>SOFT DRINKS</td>\n",
       "      <td>SFT DRNK MLT-PK BTL CARB (EXCP</td>\n",
       "      <td>24 OZ</td>\n",
       "      <td>45-54</td>\n",
       "      <td>A</td>\n",
       "      <td>...</td>\n",
       "      <td>200</td>\n",
       "      <td>200</td>\n",
       "      <td>200</td>\n",
       "      <td>200</td>\n",
       "      <td>200</td>\n",
       "      <td>200</td>\n",
       "      <td>200</td>\n",
       "      <td>200</td>\n",
       "      <td>200</td>\n",
       "      <td>200</td>\n",
       "    </tr>\n",
       "    <tr>\n",
       "      <th>436999</th>\n",
       "      <td>1745</td>\n",
       "      <td>5591103</td>\n",
       "      <td>69</td>\n",
       "      <td>GROCERY</td>\n",
       "      <td>Private</td>\n",
       "      <td>COLD CEREAL</td>\n",
       "      <td>KIDS CEREAL</td>\n",
       "      <td>32 OZ</td>\n",
       "      <td>45-54</td>\n",
       "      <td>A</td>\n",
       "      <td>...</td>\n",
       "      <td>200</td>\n",
       "      <td>200</td>\n",
       "      <td>200</td>\n",
       "      <td>200</td>\n",
       "      <td>200</td>\n",
       "      <td>200</td>\n",
       "      <td>200</td>\n",
       "      <td>200</td>\n",
       "      <td>200</td>\n",
       "      <td>200</td>\n",
       "    </tr>\n",
       "    <tr>\n",
       "      <th>437000</th>\n",
       "      <td>1745</td>\n",
       "      <td>1026118</td>\n",
       "      <td>2</td>\n",
       "      <td>PRODUCE</td>\n",
       "      <td>National</td>\n",
       "      <td>TOMATOES</td>\n",
       "      <td>ROMA TOMATOES (BULK/PKG)</td>\n",
       "      <td>25 LB</td>\n",
       "      <td>45-54</td>\n",
       "      <td>A</td>\n",
       "      <td>...</td>\n",
       "      <td>200</td>\n",
       "      <td>200</td>\n",
       "      <td>200</td>\n",
       "      <td>200</td>\n",
       "      <td>200</td>\n",
       "      <td>200</td>\n",
       "      <td>200</td>\n",
       "      <td>200</td>\n",
       "      <td>200</td>\n",
       "      <td>200</td>\n",
       "    </tr>\n",
       "  </tbody>\n",
       "</table>\n",
       "<p>437001 rows × 29 columns</p>\n",
       "</div>"
      ],
      "text/plain": [
       "        user_id  item_id_left manufacturer_left department_left brand_left  \\\n",
       "0          2070        899624                69         PRODUCE    Private   \n",
       "1          2070       1029743                69         GROCERY    Private   \n",
       "2          2070        844179              2852            MEAT   National   \n",
       "3          2070       1044078              2845            MEAT   National   \n",
       "4          2070        965267                 2         PRODUCE   National   \n",
       "...         ...           ...               ...             ...        ...   \n",
       "436996     1745       9527159               544         GROCERY   National   \n",
       "436997     1745       1004945               794         GROCERY   National   \n",
       "436998     1745        916990               103         GROCERY   National   \n",
       "436999     1745       5591103                69         GROCERY    Private   \n",
       "437000     1745       1026118                 2         PRODUCE   National   \n",
       "\n",
       "        commodity_desc_left         sub_commodity_desc_left  \\\n",
       "0                  POTATOES      POTATOES RUSSET (BULK&BAG)   \n",
       "1       FLUID MILK PRODUCTS           FLUID MILK WHITE ONLY   \n",
       "2                      BEEF                          PRIMAL   \n",
       "3                      BEEF                            LEAN   \n",
       "4                    MELONS       WATERMELON SEEDLESS WHOLE   \n",
       "...                     ...                             ...   \n",
       "436996           BAG SNACKS              MULT PK BAG SNACKS   \n",
       "436997          COLD CEREAL                     KIDS CEREAL   \n",
       "436998          SOFT DRINKS  SFT DRNK MLT-PK BTL CARB (EXCP   \n",
       "436999          COLD CEREAL                     KIDS CEREAL   \n",
       "437000             TOMATOES        ROMA TOMATOES (BULK/PKG)   \n",
       "\n",
       "       curr_size_of_product_left age_desc_left marital_status_code_left  ...  \\\n",
       "0                          10 LB         45-54                        U  ...   \n",
       "1                           1 GA         45-54                        U  ...   \n",
       "2                                        45-54                        U  ...   \n",
       "3                                        45-54                        U  ...   \n",
       "4                          40 CT         45-54                        U  ...   \n",
       "...                          ...           ...                      ...  ...   \n",
       "436996                     24 OZ         45-54                        A  ...   \n",
       "436997                   17.2 OZ         45-54                        A  ...   \n",
       "436998                     24 OZ         45-54                        A  ...   \n",
       "436999                     32 OZ         45-54                        A  ...   \n",
       "437000                     25 LB         45-54                        A  ...   \n",
       "\n",
       "       commodity_desc_right sub_commodity_desc_right  \\\n",
       "0                       200                      200   \n",
       "1                       200                      200   \n",
       "2                       200                      200   \n",
       "3                       200                      200   \n",
       "4                       200                      200   \n",
       "...                     ...                      ...   \n",
       "436996                  200                      200   \n",
       "436997                  200                      200   \n",
       "436998                  200                      200   \n",
       "436999                  200                      200   \n",
       "437000                  200                      200   \n",
       "\n",
       "       curr_size_of_product_right age_desc_right marital_status_code_right  \\\n",
       "0                             200            200                       200   \n",
       "1                             200            200                       200   \n",
       "2                             200            200                       200   \n",
       "3                             200            200                       200   \n",
       "4                             200            200                       200   \n",
       "...                           ...            ...                       ...   \n",
       "436996                        200            200                       200   \n",
       "436997                        200            200                       200   \n",
       "436998                        200            200                       200   \n",
       "436999                        200            200                       200   \n",
       "437000                        200            200                       200   \n",
       "\n",
       "        income_desc_right  homeowner_desc_right  hh_comp_desc_right  \\\n",
       "0                     200                   200                 200   \n",
       "1                     200                   200                 200   \n",
       "2                     200                   200                 200   \n",
       "3                     200                   200                 200   \n",
       "4                     200                   200                 200   \n",
       "...                   ...                   ...                 ...   \n",
       "436996                200                   200                 200   \n",
       "436997                200                   200                 200   \n",
       "436998                200                   200                 200   \n",
       "436999                200                   200                 200   \n",
       "437000                200                   200                 200   \n",
       "\n",
       "        household_size_desc_right  kid_category_desc_right  \n",
       "0                             200                      200  \n",
       "1                             200                      200  \n",
       "2                             200                      200  \n",
       "3                             200                      200  \n",
       "4                             200                      200  \n",
       "...                           ...                      ...  \n",
       "436996                        200                      200  \n",
       "436997                        200                      200  \n",
       "436998                        200                      200  \n",
       "436999                        200                      200  \n",
       "437000                        200                      200  \n",
       "\n",
       "[437001 rows x 29 columns]"
      ]
     },
     "execution_count": 190,
     "metadata": {},
     "output_type": "execute_result"
    }
   ],
   "source": [
    "X_train.join(chislo_pos_v_zakaze, on='user_id', how='inner',lsuffix='_left', rsuffix='_right')"
   ]
  },
  {
   "cell_type": "code",
   "execution_count": 106,
   "metadata": {},
   "outputs": [
    {
     "name": "stderr",
     "output_type": "stream",
     "text": [
      "/home/nal/anaconda3/lib/python3.9/site-packages/sklearn/utils/validation.py:63: DataConversionWarning: A column-vector y was passed when a 1d array was expected. Please change the shape of y to (n_samples, ), for example using ravel().\n",
      "  return f(*args, **kwargs)\n",
      "/home/nal/anaconda3/lib/python3.9/site-packages/lightgbm/basic.py:863: UserWarning: categorical_column in param dict is overridden.\n",
      "  warnings.warn('{} in param dict is overridden.'.format(cat_alias))\n"
     ]
    }
   ],
   "source": [
    "lgb = LGBMClassifier(objective='binary', max_depth=7, categorical_column=cat_feats, num_leaves=28)\n",
    "lgb.fit(X_train, y_train)\n",
    "\n",
    "train_preds = lgb.predict(X_train)"
   ]
  }
 ],
 "metadata": {
  "colab": {
   "name": "hw_webinar_6.ipynb",
   "provenance": []
  },
  "kernelspec": {
   "display_name": "Python 3 (ipykernel)",
   "language": "python",
   "name": "python3"
  },
  "language_info": {
   "codemirror_mode": {
    "name": "ipython",
    "version": 3
   },
   "file_extension": ".py",
   "mimetype": "text/x-python",
   "name": "python",
   "nbconvert_exporter": "python",
   "pygments_lexer": "ipython3",
   "version": "3.9.7"
  }
 },
 "nbformat": 4,
 "nbformat_minor": 4
}
